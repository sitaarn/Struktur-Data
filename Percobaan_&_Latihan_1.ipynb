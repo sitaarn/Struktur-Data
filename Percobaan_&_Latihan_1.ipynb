{
  "nbformat": 4,
  "nbformat_minor": 0,
  "metadata": {
    "colab": {
      "provenance": []
    },
    "kernelspec": {
      "name": "python3",
      "display_name": "Python 3"
    },
    "language_info": {
      "name": "python"
    }
  },
  "cells": [
    {
      "cell_type": "code",
      "execution_count": null,
      "metadata": {
        "colab": {
          "base_uri": "https://localhost:8080/"
        },
        "id": "tg6jf4xzufgr",
        "outputId": "f4d348f4-f4c1-497b-af1c-d4d736d311c7"
      },
      "outputs": [
        {
          "output_type": "stream",
          "name": "stdout",
          "text": [
            "Array dengan list: [10, 20, 30, 40, 50]\n"
          ]
        }
      ],
      "source": [
        "# Deklarasi array menggunakan list\n",
        "\n",
        "angka = [10,20,30,40,50]\n",
        "print('Array dengan list:', angka)\n"
      ]
    },
    {
      "cell_type": "code",
      "source": [
        "import array\n",
        "angka = array.array('i', [10,20,30,40,50])\n",
        "print('Array dengan modul array:', angka)\n"
      ],
      "metadata": {
        "colab": {
          "base_uri": "https://localhost:8080/"
        },
        "id": "NT3gFaqwuxHE",
        "outputId": "c5ee873b-2e7e-4f21-ccb7-b417277a2fcd"
      },
      "execution_count": null,
      "outputs": [
        {
          "output_type": "stream",
          "name": "stdout",
          "text": [
            "Array dengan modul array: array('i', [10, 20, 30, 40, 50])\n"
          ]
        }
      ]
    },
    {
      "cell_type": "code",
      "source": [
        "import numpy as np\n",
        "angka = np.array([10,20,30,40,50])\n",
        "print('Array dengan numpy:', angka)\n"
      ],
      "metadata": {
        "colab": {
          "base_uri": "https://localhost:8080/"
        },
        "id": "egKrnGZvuyht",
        "outputId": "086b2790-56b9-4209-beff-62994a0ca4ca"
      },
      "execution_count": null,
      "outputs": [
        {
          "output_type": "stream",
          "name": "stdout",
          "text": [
            "Array dengan numpy: [10 20 30 40 50]\n"
          ]
        }
      ]
    },
    {
      "cell_type": "code",
      "source": [
        "import numpy as np\n",
        "angka = np.array([1,2,3,4,5])\n",
        "print('Array satu dimensi:', angka)\n"
      ],
      "metadata": {
        "colab": {
          "base_uri": "https://localhost:8080/"
        },
        "id": "7QZW_Ou-uz9M",
        "outputId": "c37f9921-291f-43b3-a0fb-645f5475b61b"
      },
      "execution_count": null,
      "outputs": [
        {
          "output_type": "stream",
          "name": "stdout",
          "text": [
            "Array satu dimensi: [1 2 3 4 5]\n"
          ]
        }
      ]
    },
    {
      "cell_type": "code",
      "source": [
        "matriks = np.array ([(1, 2), (3,4), (5,6)])\n",
        "print('Array dua dimensi:', matriks)\n"
      ],
      "metadata": {
        "colab": {
          "base_uri": "https://localhost:8080/"
        },
        "id": "Xhw93-vHu41y",
        "outputId": "3a5458d7-2250-4e36-d76c-449a112b6576"
      },
      "execution_count": null,
      "outputs": [
        {
          "output_type": "stream",
          "name": "stdout",
          "text": [
            "Array dua dimensi: [[1 2]\n",
            " [3 4]\n",
            " [5 6]]\n"
          ]
        }
      ]
    },
    {
      "cell_type": "code",
      "source": [
        "array3D = np.array([(1, 2), (3, 4), (5, 6), (7, 8)])\n",
        "print('Array tiga dimensi:', array3D)\n"
      ],
      "metadata": {
        "colab": {
          "base_uri": "https://localhost:8080/"
        },
        "id": "-d_EFpbMu6xY",
        "outputId": "9f33d415-d631-41bd-e1c9-302ef30899a5"
      },
      "execution_count": null,
      "outputs": [
        {
          "output_type": "stream",
          "name": "stdout",
          "text": [
            "Array tiga dimensi: [[1 2]\n",
            " [3 4]\n",
            " [5 6]\n",
            " [7 8]]\n"
          ]
        }
      ]
    },
    {
      "cell_type": "code",
      "source": [
        "# Deklarasi array kosong\n",
        "angka = []\n",
        "\n",
        "#Inisialisasi array dengan eolemen\n",
        "angka = [10, 20, 30, 40, 50]\n",
        "\n",
        "#Akses elemen\n",
        "print('Elemen pertama:', angka[0])\n",
        "print('Elemen terakhir:', angka[-1])\n",
        "\n",
        "# Menambahkan elemen baru\n",
        "angka.append(60)\n",
        "print('Setelah append:', angka)\n",
        "\n",
        "#Menghapus elemen\n",
        "angka.remove(30)\n",
        "print('Setelah remove:', angka)\n",
        "\n",
        "#Iterasi array\n",
        "for nilai in angka:\n",
        "  print('Nilai:', nilai)\n"
      ],
      "metadata": {
        "colab": {
          "base_uri": "https://localhost:8080/"
        },
        "id": "bX1__gVJu9dx",
        "outputId": "5eb41b09-21ef-4bc0-a7d3-c80e7aec9996"
      },
      "execution_count": null,
      "outputs": [
        {
          "output_type": "stream",
          "name": "stdout",
          "text": [
            "Elemen pertama: 10\n",
            "Elemen terakhir: 50\n",
            "Setelah append: [10, 20, 30, 40, 50, 60]\n",
            "Setelah remove: [10, 20, 40, 50, 60]\n",
            "Nilai: 10\n",
            "Nilai: 20\n",
            "Nilai: 40\n",
            "Nilai: 50\n",
            "Nilai: 60\n"
          ]
        }
      ]
    },
    {
      "cell_type": "code",
      "source": [
        "#Akses Elemen\n",
        "print('Elemen pertama:', angka[0])\n",
        "\n",
        "#Penambahan elemen\n",
        "angka = np.append(angka, 60)\n",
        "print('Setelah penambahan:', angka)\n",
        "\n",
        "#Penghapusan elemen\n",
        "angka = np.delete(angka, 2) #menghapus elemen pada indeks ke-2\n",
        "print('Setelah penghapusan:', angka)\n",
        "\n",
        "#Perubahan elemen\n",
        "angka = np.delete(angka, 2) #menghapus elemen pada indeks ke-2\n",
        "print('Setelah penghapusan:', angka)\n",
        "\n",
        "#Penghitung panjang array\n",
        "print('Jumlah elemen:', len(angka))\n"
      ],
      "metadata": {
        "colab": {
          "base_uri": "https://localhost:8080/"
        },
        "id": "BTV6wQlcu-_K",
        "outputId": "3dbb6506-ed80-4ed8-9892-8e46e65270db"
      },
      "execution_count": null,
      "outputs": [
        {
          "output_type": "stream",
          "name": "stdout",
          "text": [
            "Elemen pertama: 10\n",
            "Setelah penambahan: [10 20 40 50 60 60]\n",
            "Setelah penghapusan: [10 20 50 60 60]\n",
            "Setelah penghapusan: [10 20 60 60]\n",
            "Jumlah elemen: 4\n"
          ]
        }
      ]
    },
    {
      "cell_type": "code",
      "source": [
        "#Deklarasi array kosong\n",
        "data = []\n",
        "\n",
        "#Inisialisasi array dengan elemen\n",
        "angka = [10, 20, 30, 40, 50]\n",
        "\n",
        "#Menampilkan isi array\n",
        "print('Isi array angka:', angka)\n"
      ],
      "metadata": {
        "colab": {
          "base_uri": "https://localhost:8080/"
        },
        "id": "A6-gH94xvGvs",
        "outputId": "0b8725e5-e165-46b4-d633-b421f2049c9b"
      },
      "execution_count": null,
      "outputs": [
        {
          "output_type": "stream",
          "name": "stdout",
          "text": [
            "Isi array angka: [10, 20, 30, 40, 50]\n"
          ]
        }
      ]
    },
    {
      "cell_type": "code",
      "source": [
        "# Latihan 1\n",
        "\n",
        "NPM = [22410506010, 2410506011, 2410506012, 2410506013, 2410506014]\n",
        "print('Array NPM: ', NPM)\n"
      ],
      "metadata": {
        "colab": {
          "base_uri": "https://localhost:8080/"
        },
        "id": "EavM7peivJr2",
        "outputId": "cb842e9c-b4a8-4e28-93be-4aacc05b0dc2"
      },
      "execution_count": null,
      "outputs": [
        {
          "output_type": "stream",
          "name": "stdout",
          "text": [
            "Array NPM:  [22410506010, 2410506011, 2410506012, 2410506013, 2410506014]\n"
          ]
        }
      ]
    },
    {
      "cell_type": "code",
      "source": [
        "# Mengakses elemen array\n",
        "print('Elemen pertama:', angka[0]) # Elemen pertama\n",
        "print('Elemen Terakhir:', angka[-1]) # Elemen Terakhir\n"
      ],
      "metadata": {
        "colab": {
          "base_uri": "https://localhost:8080/"
        },
        "id": "EwupRyVMvaJn",
        "outputId": "2286c24a-f35e-4a8f-fe84-a4c5a8b5c8f1"
      },
      "execution_count": null,
      "outputs": [
        {
          "output_type": "stream",
          "name": "stdout",
          "text": [
            "Elemen pertama: 10\n",
            "Elemen Terakhir: 50\n"
          ]
        }
      ]
    },
    {
      "cell_type": "code",
      "source": [
        "# Menambah elemen array\n",
        "angka.append(60)\n",
        "print('Array setelah penambahan elemen:', angka)\n",
        "\n",
        "# Menambah elemen menggunakan insert()\n",
        "angka.insert(2, 25) # Menyisipkan 25 di indeks ke-2\n",
        "print('Array setelah penambahan elemen dengan insert:', angka)\n"
      ],
      "metadata": {
        "colab": {
          "base_uri": "https://localhost:8080/"
        },
        "id": "oOQ4MPtWvb7L",
        "outputId": "6b4ad059-3ad3-492e-a71a-35b3af1041ab"
      },
      "execution_count": null,
      "outputs": [
        {
          "output_type": "stream",
          "name": "stdout",
          "text": [
            "Array setelah penambahan elemen: [10, 20, 30, 40, 50, 60]\n",
            "Array setelah penambahan elemen dengan insert: [10, 20, 25, 30, 40, 50, 60]\n"
          ]
        }
      ]
    },
    {
      "cell_type": "code",
      "source": [
        "#Menghapus elemen array\n",
        "\n",
        "#Menghapus elemen menggunakan remove()\n",
        "angka.remove(25) #Menghapus nilai 25\n",
        "print('Array setelah menghapus elemen 25:', angka)\n",
        "\n",
        "#Menghapus elemen menggunakan pop()\n",
        "angka.pop(2) #Menghapus elemen pada indeks ke-2\n",
        "print('Array setelah menghapus elemen pada indeks 2:', angka)\n"
      ],
      "metadata": {
        "colab": {
          "base_uri": "https://localhost:8080/"
        },
        "id": "2yHN5i1Avdc7",
        "outputId": "07eb771a-2060-4e3c-eba4-1554e65c6249"
      },
      "execution_count": null,
      "outputs": [
        {
          "output_type": "stream",
          "name": "stdout",
          "text": [
            "Array setelah menghapus elemen 25: [10, 20, 30, 40, 50, 60]\n",
            "Array setelah menghapus elemen pada indeks 2: [10, 20, 40, 50, 60]\n"
          ]
        }
      ]
    },
    {
      "cell_type": "code",
      "source": [
        "#Mengubah elemen pada indeks 0\n",
        "angka[0] = 100\n",
        "print('Array setelah mengubah elemen pertama:',angka)\n"
      ],
      "metadata": {
        "colab": {
          "base_uri": "https://localhost:8080/"
        },
        "id": "q06hEg74vf9b",
        "outputId": "f7564cdf-a0a6-4274-e5f2-cdbbb02f5e2a"
      },
      "execution_count": null,
      "outputs": [
        {
          "output_type": "stream",
          "name": "stdout",
          "text": [
            "Array setelah mengubah elemen pertama: [100, 20, 40, 50, 60]\n"
          ]
        }
      ]
    },
    {
      "cell_type": "code",
      "source": [
        "# Latihan 2\n",
        "\n",
        "angka.append(14)\n",
        "angka.pop(0)\n",
        "print('Array setelah menambah dan menghapus elemen: ', angka)\n"
      ],
      "metadata": {
        "colab": {
          "base_uri": "https://localhost:8080/"
        },
        "id": "49LS9oN2viJC",
        "outputId": "9d7e791a-5c6d-44f5-d528-49d61ab2074f"
      },
      "execution_count": null,
      "outputs": [
        {
          "output_type": "stream",
          "name": "stdout",
          "text": [
            "Array setelah menambah dan menghapus elemen:  [20, 40, 50, 60, 14]\n"
          ]
        }
      ]
    },
    {
      "cell_type": "code",
      "source": [
        "# Iterasi dengan pengulangan\n",
        "angka = [10, 20, 30, 40]\n",
        "\n",
        "for nilai in angka:\n",
        "  print('Nilai:', nilai)\n"
      ],
      "metadata": {
        "colab": {
          "base_uri": "https://localhost:8080/"
        },
        "id": "FpENVFmHvlZJ",
        "outputId": "e6b08bd5-f859-43a8-f83d-511b3276b34d"
      },
      "execution_count": null,
      "outputs": [
        {
          "output_type": "stream",
          "name": "stdout",
          "text": [
            "Nilai: 10\n",
            "Nilai: 20\n",
            "Nilai: 30\n",
            "Nilai: 40\n"
          ]
        }
      ]
    },
    {
      "cell_type": "code",
      "source": [
        "# Latihan 3\n",
        "\n",
        "F = ['Teknik', 'Ekonomi', 'Pertanian', 'Pendidikan', 'Ilmu Sosial dan Politik']\n",
        "\n",
        "for fakultas in F:\n",
        "  print('Fakultas', fakultas)\n"
      ],
      "metadata": {
        "colab": {
          "base_uri": "https://localhost:8080/"
        },
        "id": "fGqVvKCevnSP",
        "outputId": "c5b18cdf-51c5-4840-d1d8-7dbbecfbeba0"
      },
      "execution_count": null,
      "outputs": [
        {
          "output_type": "stream",
          "name": "stdout",
          "text": [
            "Fakultas Teknik\n",
            "Fakultas Ekonomi\n",
            "Fakultas Pertanian\n",
            "Fakultas Pendidikan\n",
            "Fakultas Ilmu Sosial dan Politik\n"
          ]
        }
      ]
    },
    {
      "cell_type": "code",
      "source": [
        "# Operasi matematika sederhana\n",
        "\n",
        "angka = [10, 20, 30, 40]\n",
        "\n",
        "print('Jumlah total:', sum(angka))\n",
        "print('Nilai maksimum:', max(angka))\n",
        "print('Nilai minimum:', min(angka))\n"
      ],
      "metadata": {
        "colab": {
          "base_uri": "https://localhost:8080/"
        },
        "id": "k5c-H3Q6vrTG",
        "outputId": "01739350-198f-4bfe-ecfb-f97f261b5d92"
      },
      "execution_count": null,
      "outputs": [
        {
          "output_type": "stream",
          "name": "stdout",
          "text": [
            "Jumlah total: 100\n",
            "Nilai maksimum: 40\n",
            "Nilai minimum: 10\n"
          ]
        }
      ]
    },
    {
      "cell_type": "code",
      "source": [
        "# Latihan 4\n",
        "\n",
        "harga = [7000, 17000, 21000, 28000,]\n",
        "\n",
        "print('Jumlah Total: ', sum(harga))\n"
      ],
      "metadata": {
        "colab": {
          "base_uri": "https://localhost:8080/"
        },
        "id": "ptXjU8XtvscN",
        "outputId": "f548e9c5-0caa-4fd0-e178-966968dbfdd6"
      },
      "execution_count": null,
      "outputs": [
        {
          "output_type": "stream",
          "name": "stdout",
          "text": [
            "Jumlah Total:  73000\n"
          ]
        }
      ]
    },
    {
      "cell_type": "code",
      "source": [
        "# Deklarasi dan inisialisasi Array 2D\n",
        "\n",
        "# Deklarasi array 2D\n",
        "matriks = [\n",
        "    [1, 2, 3],\n",
        "    [4, 5, 6],\n",
        "    [7, 8, 9]\n",
        "]\n",
        "\n",
        "# Menampilkan isi array 2D\n",
        "print('Isi array 2D:')\n",
        "for baris in matriks:\n",
        "  print(baris)\n"
      ],
      "metadata": {
        "colab": {
          "base_uri": "https://localhost:8080/"
        },
        "id": "yiO5X8eGvtll",
        "outputId": "4c071496-b389-44fe-bc93-4b2f27c30dab"
      },
      "execution_count": null,
      "outputs": [
        {
          "output_type": "stream",
          "name": "stdout",
          "text": [
            "Isi array 2D:\n",
            "[1, 2, 3]\n",
            "[4, 5, 6]\n",
            "[7, 8, 9]\n"
          ]
        }
      ]
    },
    {
      "cell_type": "code",
      "source": [
        "# Latihan 5\n",
        "\n",
        "matriks = [\n",
        "    [2, 6, 8, 10],\n",
        "    [12, 14, 16, 18],\n",
        "    [20, 22, 24, 26]\n",
        "]\n",
        "\n",
        "print('Isi array:')\n",
        "for baris in matriks:\n",
        "  print(baris)\n"
      ],
      "metadata": {
        "colab": {
          "base_uri": "https://localhost:8080/"
        },
        "id": "1TRNgMRIv2UC",
        "outputId": "133cb07e-23a9-4b6b-dcf6-eb78e2c4ba76"
      },
      "execution_count": null,
      "outputs": [
        {
          "output_type": "stream",
          "name": "stdout",
          "text": [
            "Isi array:\n",
            "[2, 6, 8, 10]\n",
            "[12, 14, 16, 18]\n",
            "[20, 22, 24, 26]\n"
          ]
        }
      ]
    },
    {
      "cell_type": "code",
      "source": [
        "# Mengakses elemen array 2D\n",
        "\n",
        "# Mengakses elemen pada baris ke-1 kolom ke-2 (indeks [0][1])\n",
        "print('Elemen pada baris 1, kolom 2:', matriks[0][1])\n",
        "\n",
        "# Mengakses elemen terakhir (baris ke-3, kolom ke-3)\n",
        "print('Elemen terakhir:', matriks[-1][-1])\n"
      ],
      "metadata": {
        "colab": {
          "base_uri": "https://localhost:8080/"
        },
        "id": "jrXG_CW-v4N7",
        "outputId": "e7b80516-87dd-434a-f5e5-85e5ca96bea9"
      },
      "execution_count": null,
      "outputs": [
        {
          "output_type": "stream",
          "name": "stdout",
          "text": [
            "Elemen pada baris 1, kolom 2: 6\n",
            "Elemen terakhir: 26\n"
          ]
        }
      ]
    },
    {
      "cell_type": "code",
      "source": [
        "# Latihan 6\n",
        "\n",
        "# Mengakses elemen pada baris ke-2 kolom ke-4 (indeks[1][3])\n",
        "print('Elemen pada baris 2, kolom 4:', matriks[1][3])\n"
      ],
      "metadata": {
        "colab": {
          "base_uri": "https://localhost:8080/"
        },
        "id": "QJzHSlVJv6Bq",
        "outputId": "9fe4b4de-d7b3-475d-a5dd-c011a5d60f05"
      },
      "execution_count": null,
      "outputs": [
        {
          "output_type": "stream",
          "name": "stdout",
          "text": [
            "Elemen pada baris 2, kolom 4: 18\n"
          ]
        }
      ]
    },
    {
      "cell_type": "code",
      "source": [
        "# Menambah baris baru\n",
        "matriks.append([10, 11, 12])\n",
        "print(\"Array setelah menambah baris baru:\")\n",
        "for baris in matriks:\n",
        "    print(baris)\n",
        "\n",
        "# Menambah elemen pada baris ke-2 (indeks 1)\n",
        "matriks[1].append(99)\n",
        "print(\"\\nArray setelah menambahkan elemen di baris ke-2:\")\n",
        "for baris in matriks:\n",
        "    print(baris)\n"
      ],
      "metadata": {
        "colab": {
          "base_uri": "https://localhost:8080/"
        },
        "id": "D-59dqHKwAZJ",
        "outputId": "2908e875-0f4a-4890-bf83-42105bdadca1"
      },
      "execution_count": null,
      "outputs": [
        {
          "output_type": "stream",
          "name": "stdout",
          "text": [
            "Array setelah menambah baris baru:\n",
            "[2, 6, 8, 10]\n",
            "[12, 14, 16, 18]\n",
            "[20, 22, 24, 26]\n",
            "[10, 11, 12]\n",
            "\n",
            "Array setelah menambahkan elemen di baris ke-2:\n",
            "[2, 6, 8, 10]\n",
            "[12, 14, 16, 18, 99]\n",
            "[20, 22, 24, 26]\n",
            "[10, 11, 12]\n"
          ]
        }
      ]
    },
    {
      "cell_type": "code",
      "source": [
        "# Latihan 7\n",
        "\n",
        "matriks.append([17, 8, 20, 6])\n",
        "print('Array setelah menambahkan baris baru:')\n",
        "for baris in matriks:\n",
        "  print(baris)\n"
      ],
      "metadata": {
        "colab": {
          "base_uri": "https://localhost:8080/"
        },
        "id": "4NP3o39kwCyG",
        "outputId": "5bf6bbc4-1115-4dad-cd01-9efd132cef46"
      },
      "execution_count": null,
      "outputs": [
        {
          "output_type": "stream",
          "name": "stdout",
          "text": [
            "Array setelah menambahkan baris baru:\n",
            "[2, 6, 8, 10]\n",
            "[12, 14, 16, 18, 99]\n",
            "[20, 22, 24, 26]\n",
            "[10, 11, 12]\n",
            "[17, 8, 20, 6]\n"
          ]
        }
      ]
    },
    {
      "cell_type": "code",
      "source": [
        "# Menghapus elemen tertentu dari baris ke-1\n",
        "matriks[0].remove(2)\n",
        "print('Array setelah menghapus elemen 2 dari baris pertama:')\n",
        "for baris in matriks:\n",
        "  print(baris)\n",
        "\n",
        "#Menghapus elemen pada indeks tertentu dari baris ke-2\n",
        "matriks[1].pop(1)\n",
        "print('\\nArray setelah menghapus elemen indeks ke-1 dari baris ke-2:')\n",
        "for baris in matriks:\n",
        "  print(baris)\n"
      ],
      "metadata": {
        "colab": {
          "base_uri": "https://localhost:8080/"
        },
        "id": "MuqkxjqqwFv1",
        "outputId": "c74073a0-618d-47cd-e26e-ad39adb28aa6"
      },
      "execution_count": null,
      "outputs": [
        {
          "output_type": "stream",
          "name": "stdout",
          "text": [
            "Array setelah menghapus elemen 2 dari baris pertama:\n",
            "[6, 8, 10]\n",
            "[12, 14, 16, 18, 99]\n",
            "[20, 22, 24, 26]\n",
            "[10, 11, 12]\n",
            "[17, 8, 20, 6]\n",
            "\n",
            "Array setelah menghapus elemen indeks ke-1 dari baris ke-2:\n",
            "[6, 8, 10]\n",
            "[12, 16, 18, 99]\n",
            "[20, 22, 24, 26]\n",
            "[10, 11, 12]\n",
            "[17, 8, 20, 6]\n"
          ]
        }
      ]
    },
    {
      "cell_type": "code",
      "source": [
        "# Latihan 8\n",
        "\n",
        "matriks[-1].pop(2)\n",
        "print('Array setelah menghapus elemen ke-3 dari baris terakhir:')\n",
        "for baris in matriks:\n",
        "  print(baris)\n"
      ],
      "metadata": {
        "colab": {
          "base_uri": "https://localhost:8080/"
        },
        "id": "hjONYjEQw1nP",
        "outputId": "ad265def-88b6-4806-ed46-6af7d05bd824"
      },
      "execution_count": null,
      "outputs": [
        {
          "output_type": "stream",
          "name": "stdout",
          "text": [
            "Array setelah menghapus elemen ke-3 dari baris terakhir:\n",
            "[6, 8, 10]\n",
            "[12, 16, 18, 99]\n",
            "[20, 22, 24, 26]\n",
            "[10, 11, 12]\n",
            "[17, 8, 6]\n"
          ]
        }
      ]
    },
    {
      "cell_type": "code",
      "source": [
        "# Mengubah elemen pada baris ke-3, kolom ke-2\n",
        "\n",
        "matriks[2][1] = 88\n",
        "print('Array setelah mengubah elemen pada baris ke-3, kolom ke-2:')\n",
        "for baris in matriks:\n",
        "  print(baris)\n"
      ],
      "metadata": {
        "colab": {
          "base_uri": "https://localhost:8080/"
        },
        "id": "lz75ROv9zmSE",
        "outputId": "0c4f25b5-d916-429b-d2ce-0e9b82b09e28"
      },
      "execution_count": null,
      "outputs": [
        {
          "output_type": "stream",
          "name": "stdout",
          "text": [
            "Array setelah mengubah elemen pada baris ke-3, kolom ke-2:\n",
            "[6, 8, 10]\n",
            "[12, 16, 18, 99]\n",
            "[20, 88, 24, 26]\n",
            "[10, 11, 12]\n",
            "[17, 8, 6]\n"
          ]
        }
      ]
    },
    {
      "cell_type": "code",
      "source": [
        "# Latihan 9\n",
        "\n",
        "matriks[-1][-1] = 14\n",
        "print('Array setelah mengubah elemen pada baris terakhir kolom terakhir:')\n",
        "for baris in matriks:\n",
        "  print(baris)\n"
      ],
      "metadata": {
        "colab": {
          "base_uri": "https://localhost:8080/"
        },
        "id": "PYC5xXEGz9Tb",
        "outputId": "f902c172-d14c-49f6-bdf3-7ad3baf83845"
      },
      "execution_count": null,
      "outputs": [
        {
          "output_type": "stream",
          "name": "stdout",
          "text": [
            "Array setelah mengubah elemen pada baris terakhir kolom terakhir:\n",
            "[6, 8, 10]\n",
            "[12, 16, 18, 99]\n",
            "[20, 88, 24, 26]\n",
            "[10, 11, 12]\n",
            "[17, 8, 14]\n"
          ]
        }
      ]
    },
    {
      "cell_type": "code",
      "source": [
        "# Menyimpan daftar belanja\n",
        "\n",
        "belanja = ['Beras', 'Gula', 'Minyak']\n",
        "belanja.append('Teh')\n",
        "belanja.remove('Gula')\n",
        "print('Daftar belanja terbaru:')\n",
        "for item in belanja:\n",
        "  print('-', item)\n"
      ],
      "metadata": {
        "colab": {
          "base_uri": "https://localhost:8080/"
        },
        "id": "Rb65A3Dx0r0W",
        "outputId": "e21be55a-d823-4aa3-b5d6-c84d4237327e"
      },
      "execution_count": null,
      "outputs": [
        {
          "output_type": "stream",
          "name": "stdout",
          "text": [
            "Daftar belanja terbaru:\n",
            "- Beras\n",
            "- Gula\n",
            "- Minyak\n"
          ]
        }
      ]
    },
    {
      "cell_type": "code",
      "source": [
        "# Latihan 10\n",
        "\n",
        "belanja = ['Minyak Goreng', 'Sereal', 'Tissue', 'Cheetos', 'Sabun Mandi', 'Pasta Gigi']\n",
        "belanja.append('Susu')\n",
        "belanja.append('Biscuit')\n",
        "belanja.remove('Cheetos')\n",
        "print('Daftar belanja hari ini:')\n",
        "for item in belanja:\n",
        "  print('-', item)\n",
        "\n"
      ],
      "metadata": {
        "colab": {
          "base_uri": "https://localhost:8080/"
        },
        "id": "gIQGiNmp2wHg",
        "outputId": "9f261cc4-9b3b-4cfc-8878-8d919fe68343"
      },
      "execution_count": null,
      "outputs": [
        {
          "output_type": "stream",
          "name": "stdout",
          "text": [
            "Daftar belanja hari ini:\n",
            "- Minyak Goreng\n",
            "- Sereal\n",
            "- Tissue\n",
            "- Sabun Mandi\n",
            "- Pasta Gigi\n",
            "- Susu\n",
            "- Biscuit\n"
          ]
        }
      ]
    },
    {
      "cell_type": "code",
      "source": [],
      "metadata": {
        "id": "Mphy73-z5nZZ"
      },
      "execution_count": null,
      "outputs": []
    }
  ]
}