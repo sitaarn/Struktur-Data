{
  "nbformat": 4,
  "nbformat_minor": 0,
  "metadata": {
    "colab": {
      "provenance": [],
      "authorship_tag": "ABX9TyOxedB25u/gCMEZpZYLKnpw",
      "include_colab_link": true
    },
    "kernelspec": {
      "name": "python3",
      "display_name": "Python 3"
    },
    "language_info": {
      "name": "python"
    }
  },
  "cells": [
    {
      "cell_type": "markdown",
      "metadata": {
        "id": "view-in-github",
        "colab_type": "text"
      },
      "source": [
        "<a href=\"https://colab.research.google.com/github/sitaarn/Struktur-Data/blob/main/Percobaan_%26_Latihan_3.ipynb\" target=\"_parent\"><img src=\"https://colab.research.google.com/assets/colab-badge.svg\" alt=\"Open In Colab\"/></a>"
      ]
    },
    {
      "cell_type": "code",
      "execution_count": null,
      "metadata": {
        "colab": {
          "base_uri": "https://localhost:8080/"
        },
        "id": "QH_MKjaVLBTr",
        "outputId": "f5c4399e-f7a9-4be6-9ebd-a642f8671e11"
      },
      "outputs": [
        {
          "output_type": "stream",
          "name": "stdout",
          "text": [
            "[5]\n"
          ]
        }
      ],
      "source": [
        "# Push\n",
        "\n",
        "class stack:\n",
        "  def __init__(self):\n",
        "    self.stack = []\n",
        "\n",
        "  def push(self, item):\n",
        "    self.stack.append(item)\n",
        "\n",
        "#Contoh penggunaan\n",
        "s = stack()\n",
        "s.push(5)\n",
        "print(s.stack) # Output: (5)\n"
      ]
    },
    {
      "cell_type": "code",
      "source": [
        "# Pop\n",
        "\n",
        "class stack:\n",
        "  def __init__(self):\n",
        "    self.stack = []\n",
        "  def push(self, item):\n",
        "    self.stack.append(item)\n",
        "  def pop(self):\n",
        "    if len(self.stack) == 0:\n",
        "      return 'Stack Kosong'\n",
        "    return self.stack.pop()\n",
        "\n",
        "# Contoh Penggunaan\n",
        "s = stack()\n",
        "s.push(5)\n",
        "s.push(10)\n",
        "print(s.pop()) # Output: 10\n",
        "print(s.stack) # Ouput: [5]\n"
      ],
      "metadata": {
        "colab": {
          "base_uri": "https://localhost:8080/"
        },
        "id": "U41VCI5fNznt",
        "outputId": "ad2e6dc8-b460-4b5f-b5ca-c1d2cb19bfe7"
      },
      "execution_count": null,
      "outputs": [
        {
          "output_type": "stream",
          "name": "stdout",
          "text": [
            "10\n",
            "[5]\n"
          ]
        }
      ]
    },
    {
      "cell_type": "code",
      "source": [
        "# Peek\n",
        "\n",
        "class stack:\n",
        "  def __init__(self):\n",
        "    self.stack = []\n",
        "  def push(self, item):\n",
        "    self.stack.append(item)\n",
        "  def peek(self):\n",
        "    if len(self.stack) == 0:\n",
        "      return \"Stack Kosong\"\n",
        "    return self.stack[-1]\n",
        "\n",
        "#Contoh penggunaan\n",
        "s = stack()\n",
        "s.push(5)\n",
        "s.push(10)\n",
        "print(s.peek()) # Output: 10\n",
        "print(s.stack) # stack tetap [5, 10]\n"
      ],
      "metadata": {
        "colab": {
          "base_uri": "https://localhost:8080/"
        },
        "id": "OWtz2kZhO4Gq",
        "outputId": "b174f89a-a51f-4a2e-d8d3-151306748f6a"
      },
      "execution_count": null,
      "outputs": [
        {
          "output_type": "stream",
          "name": "stdout",
          "text": [
            "10\n",
            "[5, 10]\n"
          ]
        }
      ]
    },
    {
      "cell_type": "code",
      "source": [
        "# isEmpty\n",
        "\n",
        "class stack:\n",
        "  def __init__(self):\n",
        "    self.stack = []\n",
        "  def push(self, item):\n",
        "    self.stack.append(item)\n",
        "  def is_empty(self):\n",
        "    return len(self.stack) == 0\n",
        "\n",
        "# Contoh penggunaan\n",
        "s = stack()\n",
        "print(s.is_empty())\n",
        "s.push(5)\n",
        "print(s.is_empty())\n"
      ],
      "metadata": {
        "colab": {
          "base_uri": "https://localhost:8080/"
        },
        "id": "7LCCD9-zTPkc",
        "outputId": "eb494116-459d-47a3-a209-94db9e6e9678"
      },
      "execution_count": null,
      "outputs": [
        {
          "output_type": "stream",
          "name": "stdout",
          "text": [
            "True\n",
            "False\n"
          ]
        }
      ]
    },
    {
      "cell_type": "code",
      "source": [
        "class TextEditor:\n",
        "  def __init__ (self):\n",
        "    self.history = []\n",
        "  def write (self, text):\n",
        "    self.history.append(text)\n",
        "  def undo (self):\n",
        "    if self.history:\n",
        "      return f\"Undo: Menghapus '{self.history.pop()}'\"\n",
        "    return \"Tidak ada yang bisa di-undo\"\n",
        "\n",
        "# Contoh Penggunaan\n",
        "editor = TextEditor ()\n",
        "editor.write(\"Halo, ini teks pertama.\")\n",
        "editor.write(\"Ini teks kedua.\")\n",
        "editor.write(\"Ini teks ketiga.\")\n",
        "\n",
        "print (editor.undo ())\n",
        "print (editor.undo ())\n"
      ],
      "metadata": {
        "colab": {
          "base_uri": "https://localhost:8080/"
        },
        "id": "l7O1cEwUUAjM",
        "outputId": "ba0f8ee7-0ac1-40b2-f8a3-633ffceaa2d2"
      },
      "execution_count": null,
      "outputs": [
        {
          "output_type": "stream",
          "name": "stdout",
          "text": [
            "Undo: Menghapus 'Ini teks ketiga.'\n",
            "Undo: Menghapus 'Ini teks kedua.'\n"
          ]
        }
      ]
    },
    {
      "cell_type": "code",
      "source": [
        "# Latihan 1\n",
        "\n",
        "class Kalkulator:\n",
        "    def __init__(self, initial_value):\n",
        "        self.total = initial_value\n",
        "        self.history = deque()\n",
        "\n",
        "    def operate(self, operation, num):\n",
        "        if operation == '+':\n",
        "            self.total += num\n",
        "        elif operation == '-':\n",
        "            self.total -= num\n",
        "        elif operation == '*':\n",
        "            self.total *= num\n",
        "        elif operation == '//':\n",
        "            if num == 0:\n",
        "                return \"Error: Tidak Bisa Pembagian dengan 0\"\n",
        "            self.total //= num\n",
        "\n",
        "        self.history.append((operation, num))\n",
        "        return self.total\n",
        "\n",
        "    def undo(self):\n",
        "        if self.history:\n",
        "            operation, num = self.history.pop()\n",
        "            if operation == '+':\n",
        "                self.total -= num\n",
        "            elif operation == '-':\n",
        "                self.total += num\n",
        "            elif operation == '*':\n",
        "                self.total //= num\n",
        "            elif operation == '//':\n",
        "                self.total *= num\n",
        "            return f\"Undo: {operation} {num}, Hasil Akhir: {self.total}\"\n",
        "        return \"Tidak ada operasi untuk dibatalkan\"\n",
        "\n",
        "    def get_total(self):\n",
        "        return self.total\n",
        "\n",
        "# Menggunakan dua digit terakhir NPM (14) sebagai angka awal\n",
        "NPM = int(input('Masukkan 2 digit terakhir NPM: '))\n",
        "c = Kalkulator(NPM)\n",
        "\n",
        "# Melakukan minimal 3 operasi matematika\n",
        "print(c.operate('+', 8))\n",
        "print(c.operate('-', 3))\n",
        "print(c.operate('*', 2))\n",
        "\n",
        "# Menguji fitur Undo\n",
        "print('\\n')\n",
        "print(c.undo())\n",
        "print(c.undo())\n",
        "print(c.undo())\n"
      ],
      "metadata": {
        "colab": {
          "base_uri": "https://localhost:8080/"
        },
        "id": "WnvAGjTr2XQB",
        "outputId": "4cfa78fe-5df8-4f41-ca9c-5f70182f495c"
      },
      "execution_count": null,
      "outputs": [
        {
          "output_type": "stream",
          "name": "stdout",
          "text": [
            "Masukkan 2 digit terakhir NPM: 14\n",
            "22\n",
            "19\n",
            "38\n",
            "\n",
            "\n",
            "Undo: * 2, Hasil Akhir: 19\n",
            "Undo: - 3, Hasil Akhir: 22\n",
            "Undo: + 8, Hasil Akhir: 14\n"
          ]
        }
      ]
    },
    {
      "cell_type": "code",
      "source": [
        "from collections import deque\n",
        "\n",
        "class BrowserHistory:\n",
        "  def __init__ (self):\n",
        "    self.history = deque ()\n",
        "  def visit (self, url):\n",
        "    self.history.append(url)\n",
        "    print (f\"Mengunjungi: {url}\")\n",
        "  def back (self):\n",
        "    if self.history:\n",
        "      print (f\"Kembali ke: {self.history.pop()}\")\n",
        "    else:\n",
        "      print (\"Tidak ada riwayat!\")\n",
        "\n",
        "# Contoh Penggunaan\n",
        "browser = BrowserHistory()\n",
        "browser.visit(\"google.com\")\n",
        "browser.visit(\"youtube.com\")\n",
        "browser.visit(\"github.com\")\n",
        "\n",
        "browser.back()\n",
        "browser.back()\n"
      ],
      "metadata": {
        "id": "EZqBzEITclyP",
        "colab": {
          "base_uri": "https://localhost:8080/"
        },
        "outputId": "037f0b1a-27bd-4e83-f2c9-7a50f81b88da"
      },
      "execution_count": null,
      "outputs": [
        {
          "output_type": "stream",
          "name": "stdout",
          "text": [
            "Mengunjungi: google.com\n",
            "Mengunjungi: youtube.com\n",
            "Mengunjungi: github.com\n",
            "Kembali ke: github.com\n",
            "Kembali ke: youtube.com\n"
          ]
        }
      ]
    },
    {
      "cell_type": "code",
      "source": [
        "# Latihan 2\n",
        "\n",
        "from collections import deque\n",
        "\n",
        "class AppNavigation:\n",
        "    def __init__(self):\n",
        "        self.history = deque()\n",
        "\n",
        "    def open_feature(self, feature):\n",
        "        self.history.append(feature)\n",
        "        print(f\"Membuka fitur: {feature}\")\n",
        "\n",
        "    def back(self):\n",
        "        if self.history:\n",
        "            last_feature = self.history.pop()\n",
        "            print(f\"Kembali ke fitur: {last_feature}\")\n",
        "        else:\n",
        "            print(\"Tidak ada riwayat fitur yang dikunjungi!\")\n",
        "\n",
        "# Contoh Penggunaan\n",
        "app = AppNavigation()\n",
        "app.open_feature(\"A14-Dashboard\")\n",
        "app.open_feature(\"A14-Profile\")\n",
        "app.open_feature(\"A14-Notifications\")\n",
        "print('\\n')\n",
        "app.back()\n",
        "app.back()\n",
        "app.back()\n",
        "app.back()\n"
      ],
      "metadata": {
        "id": "wV8vdixWgS7C",
        "colab": {
          "base_uri": "https://localhost:8080/"
        },
        "outputId": "356e0732-2ab0-449d-f658-0c97aba9a0e5"
      },
      "execution_count": null,
      "outputs": [
        {
          "output_type": "stream",
          "name": "stdout",
          "text": [
            "Membuka fitur: A14-Dashboard\n",
            "Membuka fitur: A14-Profile\n",
            "Membuka fitur: A14-Notifications\n",
            "\n",
            "\n",
            "Kembali ke fitur: A14-Notifications\n",
            "Kembali ke fitur: A14-Profile\n",
            "Kembali ke fitur: A14-Dashboard\n",
            "Tidak ada riwayat fitur yang dikunjungi!\n"
          ]
        }
      ]
    },
    {
      "cell_type": "code",
      "source": [
        "from queue import LifoQueue\n",
        "\n",
        "class BackupSystem:\n",
        "  def __init__(self):\n",
        "    self.backups = LifoQueue()\n",
        "  def backup(self, version):\n",
        "    self.backups.put(version)\n",
        "  def latest_backup(self):\n",
        "    if not self.backups.empty():\n",
        "      return f'Versi terbaru: {self.backups.queue[-1]}'\n",
        "    return 'Tidak ada cadangan!'\n",
        "\n",
        "# Contoh Penggunaan\n",
        "backup_system = BackupSystem()\n",
        "backup_system.backup('Backup_1')\n",
        "backup_system.backup('Backup_2')\n",
        "backup_system.backup('Backup_3')\n",
        "\n",
        "print(backup_system.latest_backup())\n"
      ],
      "metadata": {
        "colab": {
          "base_uri": "https://localhost:8080/"
        },
        "id": "nFWvVKi1kRsa",
        "outputId": "2f7b35c7-88e3-4f58-df3a-934b35451660"
      },
      "execution_count": null,
      "outputs": [
        {
          "output_type": "stream",
          "name": "stdout",
          "text": [
            "Versi terbaru: Backup_3\n"
          ]
        }
      ]
    },
    {
      "cell_type": "code",
      "source": [
        "# Latihan 3\n",
        "\n",
        "from queue import LifoQueue\n",
        "\n",
        "class DraftEmail:\n",
        "    def __init__(self):\n",
        "        self.drafts = LifoQueue()\n",
        "\n",
        "    def save_draft(self, subject, content):\n",
        "        self.drafts.put((subject, content))\n",
        "        print(f\"Draft dengan subjek '{subject}' telah disimpan.\")\n",
        "\n",
        "    def latest_draft(self):\n",
        "        if not self.drafts.empty():\n",
        "            subject, content = self.drafts.queue[-1]\n",
        "            return f\"Draft terakhir: \\nSubjek: {subject}\\nIsi: {content}\"\n",
        "        return \"Tidak ada draft yang tersimpan!\"\n",
        "\n",
        "# Contoh Penggunaan\n",
        "email_system = DraftEmail()\n",
        "email_system.save_draft(\"SI14-Proposal\", \"Hasil proposal penelitian.\")\n",
        "email_system.save_draft(\"SI14-Pengumpulan Tugas\", \"pengumpulan tugas struktur data.\")\n",
        "email_system.save_draft(\"SI14-Laporan\", \"Hasil laporan project akhir.\")\n",
        "print('\\n')\n",
        "print(email_system.latest_draft())\n"
      ],
      "metadata": {
        "colab": {
          "base_uri": "https://localhost:8080/"
        },
        "id": "wJ1xewHu6WY5",
        "outputId": "480f86f7-80ab-479e-9cc6-8a5a921842e2"
      },
      "execution_count": null,
      "outputs": [
        {
          "output_type": "stream",
          "name": "stdout",
          "text": [
            "Draft dengan subjek 'SI14-Proposal' telah disimpan.\n",
            "Draft dengan subjek 'SI14-Pengumpulan Tugas' telah disimpan.\n",
            "Draft dengan subjek 'SI14-Laporan' telah disimpan.\n",
            "\n",
            "\n",
            "Draft terakhir: \n",
            "Subjek: SI14-Laporan\n",
            "Isi: Hasil laporan project akhir.\n"
          ]
        }
      ]
    },
    {
      "cell_type": "code",
      "source": [
        "class CustomerService:\n",
        "    def __init__(self):\n",
        "        self.tickets = []\n",
        "    def add_ticket(self, ticket):\n",
        "        self.tickets.append(ticket)\n",
        "\n",
        "    def process_ticket(self):\n",
        "        if not self.is_empty():\n",
        "            return f\"Memproses tiket: {self.tickets.pop()}\"\n",
        "        return \"Tidak ada tiket yang harus diproses.\"\n",
        "\n",
        "    def is_empty(self):\n",
        "      return len(self.tickets) == 0\n",
        "\n",
        "# Contoh Penggunaan\n",
        "service = CustomerService()\n",
        "service.add_ticket(\"Tiket 001\")\n",
        "service.add_ticket(\"Tiket 002\")\n",
        "\n",
        "print(service.process_ticket())\n",
        "print(service.is_empty())\n"
      ],
      "metadata": {
        "colab": {
          "base_uri": "https://localhost:8080/"
        },
        "id": "b7Hb-cptk4GL",
        "outputId": "8b83ba60-1606-4200-de69-0af1f5445045"
      },
      "execution_count": null,
      "outputs": [
        {
          "output_type": "stream",
          "name": "stdout",
          "text": [
            "Memproses tiket: Tiket 002\n",
            "False\n"
          ]
        }
      ]
    },
    {
      "cell_type": "code",
      "source": [
        "# Latihan 4\n",
        "\n",
        "class AntrianTicketBioskop:\n",
        "    def __init__(self):\n",
        "        self.tickets = []\n",
        "\n",
        "    def buy_ticket(self, ticket):\n",
        "        self.tickets.append(ticket)\n",
        "        print(f\"Tiket untuk film: '{ticket}' telah dibeli.\")\n",
        "\n",
        "    def process_ticket(self):\n",
        "        if not self.is_empty():\n",
        "            return f\"Memproses tiket: {self.tickets.pop()}\"\n",
        "        return \"Tidak ada tiket yang harus diproses.\"\n",
        "\n",
        "    def is_empty(self):\n",
        "        return len(self.tickets) == 0\n",
        "\n",
        "# Contoh Penggunaan\n",
        "cinema = AntrianTicketBioskop()\n",
        "cinema.buy_ticket(\"A14-Avengers End Game\")\n",
        "cinema.buy_ticket(\"A14-Petaka Gunung Gede\")\n",
        "cinema.buy_ticket(\"A14-Squid Game 2\")\n",
        "\n",
        "print('\\n')\n",
        "print(cinema.process_ticket())\n",
        "print(cinema.process_ticket())\n",
        "print(cinema.process_ticket())\n",
        "print(cinema.process_ticket())\n"
      ],
      "metadata": {
        "id": "dpx4bEeInjM1",
        "colab": {
          "base_uri": "https://localhost:8080/"
        },
        "outputId": "a73fe9cc-2dcd-4276-fed1-f795366f38aa"
      },
      "execution_count": null,
      "outputs": [
        {
          "output_type": "stream",
          "name": "stdout",
          "text": [
            "Tiket untuk film: 'A14-Avengers End Game' telah dibeli.\n",
            "Tiket untuk film: 'A14-Petaka Gunung Gede' telah dibeli.\n",
            "Tiket untuk film: 'A14-Squid Game 2' telah dibeli.\n",
            "\n",
            "\n",
            "Memproses tiket: A14-Squid Game 2\n",
            "Memproses tiket: A14-Petaka Gunung Gede\n",
            "Memproses tiket: A14-Avengers End Game\n",
            "Tidak ada tiket yang harus diproses.\n"
          ]
        }
      ]
    },
    {
      "cell_type": "code",
      "source": [],
      "metadata": {
        "id": "Zb3i7hvp-fkM"
      },
      "execution_count": null,
      "outputs": []
    }
  ]
}