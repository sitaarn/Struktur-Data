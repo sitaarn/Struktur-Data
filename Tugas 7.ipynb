{
  "nbformat": 4,
  "nbformat_minor": 0,
  "metadata": {
    "colab": {
      "provenance": [],
      "authorship_tag": "ABX9TyOusmRALu11W3GN5IK4De7/",
      "include_colab_link": true
    },
    "kernelspec": {
      "name": "python3",
      "display_name": "Python 3"
    },
    "language_info": {
      "name": "python"
    }
  },
  "cells": [
    {
      "cell_type": "markdown",
      "metadata": {
        "id": "view-in-github",
        "colab_type": "text"
      },
      "source": [
        "<a href=\"https://colab.research.google.com/github/sitaarn/Struktur-Data/blob/main/Tugas%207.ipynb\" target=\"_parent\"><img src=\"https://colab.research.google.com/assets/colab-badge.svg\" alt=\"Open In Colab\"/></a>"
      ]
    },
    {
      "cell_type": "code",
      "execution_count": null,
      "metadata": {
        "colab": {
          "base_uri": "https://localhost:8080/"
        },
        "id": "ELNtKv6LvosS",
        "outputId": "ac47aad2-6038-454d-e587-9a4fc2570d9d"
      },
      "outputs": [
        {
          "output_type": "stream",
          "name": "stdout",
          "text": [
            "Hasil Inorder Traversal:\n",
            "17 14 8 26 14 "
          ]
        }
      ],
      "source": [
        "# Struktur Tree berdasarkan identitas saya\n",
        "\n",
        "class Node:\n",
        "    def __init__(self, data):\n",
        "        self.data = data\n",
        "        self.left = None\n",
        "        self.right = None\n",
        "\n",
        "root = Node(26)  # Jumlah huruf nama lengkap\n",
        "root.left = Node(14)  # Jumlah huruf vokal pada nama\n",
        "root.right = Node(14)  # Dua digit terakhir dari NPM\n",
        "\n",
        "# Menambahkan satu level berdasarkan tanggal lahir\n",
        "root.left.left = Node(17)  # Tanggal lahir\n",
        "root.left.right = Node(8)  # Bulan lahir\n",
        "\n",
        "# Fungsi inorder traversal\n",
        "def inorder(node):\n",
        "    if node:\n",
        "        inorder(node.left)\n",
        "        print(node.data, end=' ')\n",
        "        inorder(node.right)\n",
        "\n",
        "print(\"Hasil Inorder Traversal:\")\n",
        "inorder(root)\n"
      ]
    },
    {
      "cell_type": "code",
      "source": [
        "# Struktur Tree berdasarkan identitas saya\n",
        "class Node:\n",
        "    def __init__(self, data):\n",
        "        self.data = data\n",
        "        self.left = None\n",
        "        self.right = None\n",
        "\n",
        "class BinarySearchTree:\n",
        "    def __init__(self):\n",
        "        self.root = None\n",
        "\n",
        "    # Fungsi untuk menyisipkan node baru dalam BST\n",
        "    def insert(self, root, data):\n",
        "        if root is None:\n",
        "            return Node(data)\n",
        "\n",
        "        # Menentukan posisi untuk menyisipkan data\n",
        "        if data < root.data:\n",
        "            root.left = self.insert(root.left, data)\n",
        "        else:\n",
        "            root.right = self.insert(root.right, data)\n",
        "\n",
        "        return root\n",
        "\n",
        "    # Fungsi inorder traversal (left, root, right)\n",
        "    def inorder(self, node):\n",
        "        if node:\n",
        "            self.inorder(node.left)\n",
        "            print(node.data, end=' ')\n",
        "            self.inorder(node.right)\n",
        "\n",
        "    # Fungsi preorder traversal (root, left, right)\n",
        "    def preorder(self, node):\n",
        "        if node:\n",
        "            print(node.data, end=' ')\n",
        "            self.preorder(node.left)\n",
        "            self.preorder(node.right)\n",
        "\n",
        "    # Fungsi postorder traversal (left, right, root)\n",
        "    def postorder(self, node):\n",
        "        if node:\n",
        "            self.postorder(node.left)\n",
        "            self.postorder(node.right)\n",
        "            print(node.data, end=' ')\n",
        "\n",
        "    # Fungsi untuk mencari nilai dalam BST\n",
        "    def search(self, node, key):\n",
        "\n",
        "        if node is None or node.data == key:\n",
        "            return node        # Jika node kosong atau data node sama dengan key, return node\n",
        "\n",
        "        if key < node.data:\n",
        "            return self.search(node.left, key) # Jika key lebih kecil dari data node, cari di subtree kiri\n",
        "\n",
        "        return self.search(node.right, key) # Jika key lebih besar dari data node, cari di subtree kanan\n",
        "\n",
        "data = [14, 17, 8, 105, 100, 18, 21]  # List data yang akan dimasukkan ke dalam BST\n",
        "\n",
        "# Membuat objek BinarySearchTree\n",
        "bst = BinarySearchTree()\n",
        "\n",
        "# Membuat BST dengan memasukkan semua data dari list\n",
        "root = None\n",
        "for value in data:\n",
        "    root = bst.insert(root, value)\n",
        "\n",
        "# Menampilkan hasil traversal\n",
        "print(\"Inorder Traversal:\")\n",
        "bst.inorder(root)\n",
        "print('')\n",
        "print(\"\\nPreorder Traversal:\")\n",
        "bst.preorder(root)\n",
        "print('')\n",
        "print(\"\\nPostorder Traversal:\")\n",
        "bst.postorder(root)\n",
        "print('')\n",
        "\n",
        "# Fungsi pencarian\n",
        "def find_in_bst(key):\n",
        "    result = bst.search(root, key)\n",
        "    if result:\n",
        "        print(f\"\\n{key} ditemukan dalam tree.\")\n",
        "    else:\n",
        "        print(f\"{key} tidak ditemukan dalam tree.\")\n",
        "\n",
        "# Pencarian berdasarkan dua digit terakhir NPM (14)\n",
        "find_in_bst(14)\n",
        "\n",
        "# Pencarian angka yang tidak ada dalam list\n",
        "find_in_bst(56)\n"
      ],
      "metadata": {
        "colab": {
          "base_uri": "https://localhost:8080/"
        },
        "id": "J6RDPR0XxG0w",
        "outputId": "c1adc415-95dc-4e2f-a0e8-dc3cdf35e3af"
      },
      "execution_count": 1,
      "outputs": [
        {
          "output_type": "stream",
          "name": "stdout",
          "text": [
            "Inorder Traversal:\n",
            "8 14 17 18 21 100 105 \n",
            "\n",
            "Preorder Traversal:\n",
            "14 8 17 105 100 18 21 \n",
            "\n",
            "Postorder Traversal:\n",
            "8 21 18 100 105 17 14 \n",
            "\n",
            "14 ditemukan dalam tree.\n",
            "56 tidak ditemukan dalam tree.\n"
          ]
        }
      ]
    },
    {
      "cell_type": "code",
      "source": [],
      "metadata": {
        "id": "JBavSp_QzO1Z"
      },
      "execution_count": null,
      "outputs": []
    }
  ]
}