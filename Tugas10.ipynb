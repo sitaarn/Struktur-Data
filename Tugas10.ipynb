{
  "nbformat": 4,
  "nbformat_minor": 0,
  "metadata": {
    "colab": {
      "provenance": [],
      "authorship_tag": "ABX9TyM9KfbkzhC8PQjGCaecDJHH",
      "include_colab_link": true
    },
    "kernelspec": {
      "name": "python3",
      "display_name": "Python 3"
    },
    "language_info": {
      "name": "python"
    }
  },
  "cells": [
    {
      "cell_type": "markdown",
      "metadata": {
        "id": "view-in-github",
        "colab_type": "text"
      },
      "source": [
        "<a href=\"https://colab.research.google.com/github/sitaarn/Struktur-Data/blob/main/Tugas10.ipynb\" target=\"_parent\"><img src=\"https://colab.research.google.com/assets/colab-badge.svg\" alt=\"Open In Colab\"/></a>"
      ]
    },
    {
      "cell_type": "code",
      "execution_count": 2,
      "metadata": {
        "colab": {
          "base_uri": "https://localhost:8080/"
        },
        "id": "gn95pjG5zTB0",
        "outputId": "4b3cb9b7-e33b-43d6-9ccd-c07f33a24c9c"
      },
      "outputs": [
        {
          "output_type": "stream",
          "name": "stdout",
          "text": [
            "A -> ['B', 'C']\n",
            "B -> ['A', 'F', 'E']\n",
            "C -> ['B', 'D']\n",
            "D -> ['A', 'B']\n",
            "E -> ['D', 'F']\n",
            "F -> ['C', 'E', 'D']\n"
          ]
        }
      ],
      "source": [
        "# 1. Membuat graf tak berarah baru\n",
        "graph = {\n",
        "    'A': ['B', 'C'],\n",
        "    'B': ['A', 'F', 'E'],\n",
        "    'C': ['B', 'D'],\n",
        "    'D': ['A', 'B'],\n",
        "    'E': ['D', 'F'],\n",
        "    'F': ['C', 'E', 'D']\n",
        "}\n",
        "\n",
        "# Menampilkan graf\n",
        "def print_graph(graph):\n",
        "    for node in graph:\n",
        "        print(f\"{node} -> {graph[node]}\")\n",
        "\n",
        "# Menampilkan graf\n",
        "print_graph(graph)\n"
      ]
    },
    {
      "cell_type": "code",
      "source": [
        "# 2. Fungsi BFS & DFS\n",
        "\n",
        "from collections import deque\n",
        "\n",
        "# Fungsi BFS\n",
        "def bfs(graph, start):\n",
        "    visited = set()\n",
        "    queue = deque([start])\n",
        "\n",
        "    while queue:\n",
        "        vertex = queue.popleft()\n",
        "        if vertex not in visited:\n",
        "            print(vertex, end=\" \")\n",
        "            visited.add(vertex)\n",
        "            queue.extend([n for n in graph[vertex] if n not in visited])\n",
        "\n",
        "# Fungsi DFS\n",
        "def dfs(graph, start, visited=None):\n",
        "    if visited is None:\n",
        "        visited = set()\n",
        "\n",
        "    if start not in visited:\n",
        "        print(start, end=\" \")\n",
        "        visited.add(start)\n",
        "        for neighbor in graph[start]:\n",
        "            dfs(graph, neighbor, visited)\n",
        "\n",
        "\n",
        "# Contoh pemanggilan BFS dan DFS\n",
        "print(\"BFS dari simpul B:\")\n",
        "bfs(graph, 'B')\n",
        "print('')\n",
        "print(\"\\nDFS dari simpul B:\")\n",
        "dfs(graph, 'B')\n"
      ],
      "metadata": {
        "colab": {
          "base_uri": "https://localhost:8080/"
        },
        "id": "cxCEVDx5z03s",
        "outputId": "8cbeb680-5cd2-4d9d-adfb-15866be6697f"
      },
      "execution_count": 7,
      "outputs": [
        {
          "output_type": "stream",
          "name": "stdout",
          "text": [
            "BFS dari simpul B:\n",
            "B A F E C D \n",
            "\n",
            "DFS dari simpul B:\n",
            "B A C D F E "
          ]
        }
      ]
    },
    {
      "cell_type": "code",
      "source": [
        "# 3. Modifikasi fungsi BFS agar mengembalikan list urutan kunjungan, bukan hanya mencetak.\n",
        "\n",
        "def bfs_list(graph, start):\n",
        "    visited = set()\n",
        "    queue = deque([start])\n",
        "    result = []\n",
        "\n",
        "    while queue:\n",
        "        vertex = queue.popleft()\n",
        "        if vertex not in visited:\n",
        "            result.append(vertex)\n",
        "            visited.add(vertex)\n",
        "            queue.extend([n for n in graph[vertex] if n not in visited])\n",
        "    return result\n",
        "\n",
        "print(\"Urutan BFS:\", bfs_list(graph, 'B'))\n"
      ],
      "metadata": {
        "colab": {
          "base_uri": "https://localhost:8080/"
        },
        "id": "r2ImcAggwdlH",
        "outputId": "8315e823-3874-412a-a6a0-9e48705675a0"
      },
      "execution_count": 11,
      "outputs": [
        {
          "output_type": "stream",
          "name": "stdout",
          "text": [
            "Urutan BFS: ['B', 'A', 'F', 'E', 'C', 'D']\n"
          ]
        }
      ]
    },
    {
      "cell_type": "code",
      "source": [
        "# 4. Buat fungsi find path (graph, start, end)\n",
        "\n",
        "def find_path(graph, start, end, path=None):\n",
        "    if path is None:\n",
        "        path = []\n",
        "\n",
        "    path.append(start)\n",
        "\n",
        "    if start == end:\n",
        "        return path\n",
        "\n",
        "    for neighbor in graph[start]:\n",
        "        if neighbor not in path:\n",
        "            new_path = find_path(graph, neighbor, end, path.copy())\n",
        "            if new_path:\n",
        "                return new_path\n",
        "\n",
        "    return None\n",
        "\n",
        "# Contoh pemanggilan\n",
        "print(\"Path from A to D:\", find_path(graph, 'A', 'D'))\n"
      ],
      "metadata": {
        "colab": {
          "base_uri": "https://localhost:8080/"
        },
        "id": "kpOk3B3W0SIi",
        "outputId": "04ab5a0e-c652-4bdd-becf-37c62df6adae"
      },
      "execution_count": 12,
      "outputs": [
        {
          "output_type": "stream",
          "name": "stdout",
          "text": [
            "Path from A to D: ['A', 'B', 'F', 'C', 'D']\n"
          ]
        }
      ]
    },
    {
      "cell_type": "code",
      "source": [
        "# 5. Menambahkan fungsi is_connected (graph)\n",
        "\n",
        "def is_connected(graph):\n",
        "    visited = set()\n",
        "\n",
        "    def dfs_visit(node):\n",
        "        if node not in visited:\n",
        "            visited.add(node)\n",
        "            for neighbor in graph[node]:\n",
        "                dfs_visit(neighbor)\n",
        "\n",
        "    start_node = next(iter(graph))  # Ambil simpul awal secara acak\n",
        "    dfs_visit(start_node)\n",
        "    return len(visited) == len(graph)\n",
        "\n",
        "# Contoh pemanggilan\n",
        "print(\"Apakah semua simpul dalam graf saling terhubung?\", is_connected(graph))\n"
      ],
      "metadata": {
        "colab": {
          "base_uri": "https://localhost:8080/"
        },
        "id": "eRQoWGP50wGC",
        "outputId": "d47c20fd-4218-4eba-ef77-8b2683ba093f"
      },
      "execution_count": 13,
      "outputs": [
        {
          "output_type": "stream",
          "name": "stdout",
          "text": [
            "Apakah semua simpul dalam graf saling terhubung? True\n"
          ]
        }
      ]
    },
    {
      "cell_type": "code",
      "source": [],
      "metadata": {
        "id": "AxUP79_N1Jqy"
      },
      "execution_count": null,
      "outputs": []
    }
  ]
}