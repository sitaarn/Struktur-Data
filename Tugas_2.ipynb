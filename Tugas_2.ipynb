{
  "nbformat": 4,
  "nbformat_minor": 0,
  "metadata": {
    "colab": {
      "provenance": [],
      "authorship_tag": "ABX9TyOkWGcwXenw/m8rEg2tJD3B",
      "include_colab_link": true
    },
    "kernelspec": {
      "name": "python3",
      "display_name": "Python 3"
    },
    "language_info": {
      "name": "python"
    }
  },
  "cells": [
    {
      "cell_type": "markdown",
      "metadata": {
        "id": "view-in-github",
        "colab_type": "text"
      },
      "source": [
        "<a href=\"https://colab.research.google.com/github/sitaarn/Struktur-Data/blob/main/Tugas_2.ipynb\" target=\"_parent\"><img src=\"https://colab.research.google.com/assets/colab-badge.svg\" alt=\"Open In Colab\"/></a>"
      ]
    },
    {
      "cell_type": "code",
      "source": [
        "# Tugas\n",
        "class SatpamNode:\n",
        "    def __init__(self, nama):\n",
        "        self.nama = nama\n",
        "        self.next = None\n",
        "\n",
        "class CircularLinkedList:\n",
        "    def __init__(self):\n",
        "        self.head = None\n",
        "\n",
        "    # Menambahkan satpam ke dalam daftar\n",
        "    def tambah_satpam(self, nama):\n",
        "        new_node = SatpamNode(nama)\n",
        "        if not self.head:\n",
        "            self.head = new_node\n",
        "            self.head.next = self.head\n",
        "        else:\n",
        "            temp = self.head\n",
        "            while temp.next != self.head:\n",
        "                temp = temp.next\n",
        "            temp.next = new_node\n",
        "            new_node.next = self.head\n",
        "\n",
        "    # Membuat jadwal piket selama 14 hari\n",
        "    def buat_jadwal(self, jml_hari=14):\n",
        "        if not self.head:\n",
        "            print(\"Tidak ada satpam yang terdaftar!\")\n",
        "            return\n",
        "\n",
        "        print(\"\\nJadwal Piket Satpam (14 Hari):\")\n",
        "        temp = self.head\n",
        "        for hari in range(1, jml_hari + 1):\n",
        "            print(f\"Hari {hari}: {temp.nama}\")\n",
        "            temp = temp.next\n",
        "\n",
        "# ====== Program Utama (Main) ======\n",
        "satpam_list = CircularLinkedList()\n",
        "\n",
        "# Memasukkan nama satpam\n",
        "for i in range(1, 5):  # Ada 4 satpam\n",
        "    nama = input(f\"Masukkan nama satpam ke-{i}: \")\n",
        "    satpam_list.tambah_satpam(nama)\n",
        "\n",
        "# Menampilkan jadwal piket selama 2 minggu\n",
        "satpam_list.buat_jadwal()\n"
      ],
      "metadata": {
        "id": "I29RMvQKYKsn",
        "colab": {
          "base_uri": "https://localhost:8080/"
        },
        "outputId": "5fdd3ba1-de4b-4b34-9ca4-f889a486490d"
      },
      "execution_count": 1,
      "outputs": [
        {
          "output_type": "stream",
          "name": "stdout",
          "text": [
            "Masukkan nama satpam ke-1: Setiasih\n",
            "Masukkan nama satpam ke-2: Nadhifa\n",
            "Masukkan nama satpam ke-3: Septiana\n",
            "Masukkan nama satpam ke-4: Sita\n",
            "\n",
            "Jadwal Piket Satpam (14 Hari):\n",
            "Hari 1: Setiasih\n",
            "Hari 2: Nadhifa\n",
            "Hari 3: Septiana\n",
            "Hari 4: Sita\n",
            "Hari 5: Setiasih\n",
            "Hari 6: Nadhifa\n",
            "Hari 7: Septiana\n",
            "Hari 8: Sita\n",
            "Hari 9: Setiasih\n",
            "Hari 10: Nadhifa\n",
            "Hari 11: Septiana\n",
            "Hari 12: Sita\n",
            "Hari 13: Setiasih\n",
            "Hari 14: Nadhifa\n"
          ]
        }
      ]
    },
    {
      "cell_type": "code",
      "source": [],
      "metadata": {
        "id": "NlHVB2qhhGft"
      },
      "execution_count": null,
      "outputs": []
    }
  ]
}