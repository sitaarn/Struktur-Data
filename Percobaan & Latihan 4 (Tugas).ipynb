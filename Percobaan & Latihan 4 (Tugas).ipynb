{
  "nbformat": 4,
  "nbformat_minor": 0,
  "metadata": {
    "colab": {
      "provenance": [],
      "authorship_tag": "ABX9TyPhrv12rwJj+9qkfOE82ga5",
      "include_colab_link": true
    },
    "kernelspec": {
      "name": "python3",
      "display_name": "Python 3"
    },
    "language_info": {
      "name": "python"
    }
  },
  "cells": [
    {
      "cell_type": "markdown",
      "metadata": {
        "id": "view-in-github",
        "colab_type": "text"
      },
      "source": [
        "<a href=\"https://colab.research.google.com/github/sitaarn/Struktur-Data/blob/main/Percobaan%20%26%20Latihan%204%20(Tugas).ipynb\" target=\"_parent\"><img src=\"https://colab.research.google.com/assets/colab-badge.svg\" alt=\"Open In Colab\"/></a>"
      ]
    },
    {
      "cell_type": "code",
      "execution_count": null,
      "metadata": {
        "colab": {
          "base_uri": "https://localhost:8080/"
        },
        "id": "t405c1j6Ny_W",
        "outputId": "fc02c723-d83c-4615-c2b4-01e10f519a64"
      },
      "outputs": [
        {
          "output_type": "stream",
          "name": "stdout",
          "text": [
            "Queue setelah enqueue: [10, 20, 30]\n",
            "Dequeued element: None\n",
            "Front element: None\n",
            "Rear element:  None\n",
            "Queue size: 3\n"
          ]
        }
      ],
      "source": [
        "# Implementasi queue menggunakan list\n",
        "class QueueList:\n",
        "  def __init__(self):\n",
        "    self.queue = []\n",
        "\n",
        "  def enqueue (self, item):\n",
        "    self.queue.append(item)\n",
        "\n",
        "  def dequeue (self):\n",
        "    if not self.is_empty():\n",
        "      return self.queue.pop (0)\n",
        "    return None\n",
        "\n",
        "  def front (self):\n",
        "    return self.queue[0] if not self.is_empty() else None\n",
        "\n",
        "  def rear (self):\n",
        "    return self.queue [-1] if not self.is_empty() else None\n",
        "\n",
        "  def is_empty(self):\n",
        "    return len (self.queue)\n",
        "\n",
        "  def size (self):\n",
        "    return len (self.queue)\n",
        "\n",
        "# Contoh penggunaan\n",
        "queue = QueueList()\n",
        "queue.enqueue (10)\n",
        "queue.enqueue (20)\n",
        "queue.enqueue (30)\n",
        "print(\"Queue setelah enqueue:\", queue.queue)\n",
        "print(\"Dequeued element:\", queue.dequeue())\n",
        "print(\"Front element:\", queue.front () )\n",
        "print(\"Rear element: \", queue. rear () )\n",
        "print(\"Queue size:\", queue.size())\n"
      ]
    },
    {
      "cell_type": "code",
      "source": [
        "from collections import deque\n",
        "\n",
        "# Implementasi Queue menggunakan deque\n",
        "class QueueDeque:\n",
        "  def __init__(self):\n",
        "    self.queue = deque()\n",
        "\n",
        "  def enqueue(self, item):\n",
        "    self.queue.append(item)\n",
        "\n",
        "  def dequeue (self):\n",
        "      return self.queue.popleft () if not self.is_empty() else None\n",
        "\n",
        "  def front (self):\n",
        "      return self.queue[0] if not self.is_empty() else None\n",
        "\n",
        "  def rear (self):\n",
        "      return self.queue[-1] if not self.is_empty() else None\n",
        "\n",
        "  def is_empty(self):\n",
        "      return len (self.queue)\n",
        "\n",
        "  def size (self):\n",
        "      return len (self.queue)\n",
        "\n",
        "# Contoh penggunaan\n",
        "queue = QueueDeque ()\n",
        "queue.enqueue (10)\n",
        "queue.enqueue (20)\n",
        "queue.enqueue (30)\n",
        "print(\"Queue setelah enqueue:\", list (queue.queue))\n",
        "print(\"Dequeued element:\", queue.dequeue())\n",
        "print(\"Front element: \", queue.front () )\n",
        "print(\"Rear element:\", queue. rear () )\n",
        "print(\"Queue size:\", queue.size())\n"
      ],
      "metadata": {
        "colab": {
          "base_uri": "https://localhost:8080/"
        },
        "id": "9DgoOrinSDd7",
        "outputId": "807c5a48-60e4-42da-d453-ab57f6bd3afb"
      },
      "execution_count": null,
      "outputs": [
        {
          "output_type": "stream",
          "name": "stdout",
          "text": [
            "Queue setelah enqueue: [10, 20, 30]\n",
            "Dequeued element: None\n",
            "Front element:  None\n",
            "Rear element: None\n",
            "Queue size: 3\n"
          ]
        }
      ]
    },
    {
      "cell_type": "code",
      "source": [
        "from queue import Queue\n",
        "\n",
        "# Implementasi Queue menggunakan queue.Queue\n",
        "queue = Queue ()\n",
        "\n",
        "queue.put (10)\n",
        "queue.put (20)\n",
        "queue.put (30)\n",
        "\n",
        "print(\"Queue size:\", queue.qsize())\n",
        "print(\"Dequeued element:\", queue.get())\n",
        "print(\"Queue size setelah dequeue:\", queue.qsize())\n"
      ],
      "metadata": {
        "colab": {
          "base_uri": "https://localhost:8080/"
        },
        "id": "Hbx1HmWbTAj8",
        "outputId": "714d1cc0-1e3d-4896-9591-901187c5093c"
      },
      "execution_count": null,
      "outputs": [
        {
          "output_type": "stream",
          "name": "stdout",
          "text": [
            "Queue size: 3\n",
            "Dequeued element: 10\n",
            "Queue size setelah dequeue: 2\n"
          ]
        }
      ]
    },
    {
      "cell_type": "code",
      "source": [
        "class Node:\n",
        "    def __init__(self, data):\n",
        "        self.data = data\n",
        "        self.next = None\n",
        "\n",
        "class QueueLinkedList:\n",
        "    def __init__(self):\n",
        "        self.front = self.rear = None\n",
        "\n",
        "    def enqueue(self, data):\n",
        "        new_node = Node(data)\n",
        "        if self.rear is None:\n",
        "            self.front = self.rear = new_node\n",
        "            return\n",
        "        self.rear.next = new_node\n",
        "        self.rear = new_node\n",
        "\n",
        "    def dequeue(self):\n",
        "        if self.front is None:\n",
        "            return None\n",
        "        dequeued_element = self.front.data\n",
        "        self.front = self.front.next\n",
        "        if self.front is None:\n",
        "            self.rear = None\n",
        "        return dequeued_element\n",
        "\n",
        "    def is_empty(self):\n",
        "        return self.front is None\n",
        "\n",
        "    def front_element(self):\n",
        "        return self.front.data if self.front else None\n",
        "\n",
        "    def rear_element(self):\n",
        "        return self.rear.data if self.rear else None\n",
        "\n",
        "# Contoh penggunaan\n",
        "queue = QueueLinkedList()\n",
        "queue.enqueue(10)\n",
        "queue.enqueue(20)\n",
        "queue.enqueue(30)\n",
        "print(\"Dequeued element:\", queue.dequeue())\n",
        "print(\"Front element:\", queue.front_element())\n",
        "print(\"Rear element:\", queue.rear_element())\n"
      ],
      "metadata": {
        "colab": {
          "base_uri": "https://localhost:8080/"
        },
        "id": "6LwXUacPTOnj",
        "outputId": "b984891d-1b21-42aa-8112-3bb02b3bca97"
      },
      "execution_count": null,
      "outputs": [
        {
          "output_type": "stream",
          "name": "stdout",
          "text": [
            "Dequeued element: 10\n",
            "Front element: 20\n",
            "Rear element: 30\n"
          ]
        }
      ]
    },
    {
      "cell_type": "code",
      "source": [
        "# Latihan 1\n",
        "\n",
        "class AntriBioskop:\n",
        "    def __init__(self, maks = 10):\n",
        "        self.queue = []\n",
        "        self.maks = maks\n",
        "\n",
        "    def enqueue(self, ticket_id):\n",
        "        if len(self.queue) < self.maks:\n",
        "            self.queue.append(ticket_id)\n",
        "        else:\n",
        "            print(f\"Antrian penuh. Pelanggan {ticket_id} harus menunggu.\")\n",
        "\n",
        "    def dequeue(self):\n",
        "        if not self.is_empty():\n",
        "            return self.queue.pop(0)\n",
        "        return None\n",
        "\n",
        "    def front(self):\n",
        "        return self.queue[0] if not self.is_empty() else None\n",
        "\n",
        "    def rear(self):\n",
        "        return self.queue[-1] if not self.is_empty() else None\n",
        "\n",
        "    def is_empty(self):\n",
        "        return len(self.queue) == 0\n",
        "\n",
        "    def size(self):\n",
        "        return len(self.queue)\n",
        "\n",
        "    def vip_enqueue(self, ticket_id):\n",
        "        # Fitur VIP: Pelanggan dengan kode khusus langsung mendapatkan kursi tanpa antri\n",
        "        if '7' in ticket_id:\n",
        "            print(f\"Pelanggan VIP {ticket_id} langsung mendapatkan kursi!\")\n",
        "        else:\n",
        "            self.enqueue(ticket_id)\n",
        "\n",
        "# Contoh penggunaan\n",
        "queue = AntriBioskop(maks = 10)\n",
        "\n",
        "# Enqueue pelanggan biasa\n",
        "queue.enqueue(\"SI14-001\")\n",
        "queue.enqueue(\"SI14-002\")\n",
        "queue.enqueue(\"SI14-003\")\n",
        "queue.enqueue(\"SI14-004\")\n",
        "queue.enqueue(\"SI14-005\")\n",
        "queue.enqueue(\"SI14-006\")\n",
        "\n",
        "# Enqueue pelanggan VIP\n",
        "queue.vip_enqueue(\"SI14-017\")\n",
        "queue.vip_enqueue(\"SI14-027\")\n",
        "queue.vip_enqueue(\"SI14-077\")\n",
        "\n",
        "# Cek antrian setelah beberapa enqueue\n",
        "print('\\n')\n",
        "print(\"Queue setelah enqueue:\", queue.queue)\n",
        "print(\"Dequeued element:\", queue.dequeue())\n",
        "print(\"Front element:\", queue.front())\n",
        "print(\"Rear element:\", queue.rear())\n",
        "print(\"Queue size:\", queue.size())\n"
      ],
      "metadata": {
        "colab": {
          "base_uri": "https://localhost:8080/"
        },
        "id": "D0waZjYcTr4E",
        "outputId": "b62f68b6-210d-4578-a234-c584c26ceafe"
      },
      "execution_count": null,
      "outputs": [
        {
          "output_type": "stream",
          "name": "stdout",
          "text": [
            "Pelanggan VIP SI14-017 langsung mendapatkan kursi!\n",
            "Pelanggan VIP SI14-027 langsung mendapatkan kursi!\n",
            "Pelanggan VIP SI14-077 langsung mendapatkan kursi!\n",
            "\n",
            "\n",
            "Queue setelah enqueue: ['SI14-001', 'SI14-002', 'SI14-003', 'SI14-004', 'SI14-005', 'SI14-006']\n",
            "Dequeued element: SI14-001\n",
            "Front element: SI14-002\n",
            "Rear element: SI14-006\n",
            "Queue size: 5\n"
          ]
        }
      ]
    },
    {
      "cell_type": "code",
      "source": [
        "# Latihan 2\n",
        "\n",
        "class AntriFotocopy:\n",
        "    def __init__(self, maks = 5):\n",
        "        self.queue = []\n",
        "        self.maks = maks\n",
        "\n",
        "    def enqueue(self, order_id, pages):\n",
        "        if len(self.queue) < self.maks:\n",
        "            self.queue.append((order_id, pages))\n",
        "        else:\n",
        "            print(f\"Antrian penuh. Pesanan {order_id} harus menunggu.\")\n",
        "\n",
        "    def dequeue(self):\n",
        "        if not self.is_empty():\n",
        "            return self.queue.pop(0)\n",
        "        return None\n",
        "\n",
        "    def front(self):\n",
        "        return self.queue[0] if not self.is_empty() else None\n",
        "\n",
        "    def rear(self):\n",
        "        return self.queue[-1] if not self.is_empty() else None\n",
        "\n",
        "    def is_empty(self):\n",
        "        return len(self.queue) == 0\n",
        "\n",
        "    def size(self):\n",
        "        return len(self.queue)\n",
        "\n",
        "    def fast_track(self, order_id, pages):\n",
        "        if pages < 10:\n",
        "            print(f\"Pesanan {order_id} dengan {pages} halaman langsung diproses\")\n",
        "        else:\n",
        "            self.enqueue(order_id, pages)\n",
        "\n",
        "    def process_large_order(self, order_id, pages):\n",
        "        if pages > 100:\n",
        "            print(f\"Pesanan {order_id} dengan {pages} halaman akan diproses dalam dua tahap\")\n",
        "            self.enqueue(order_id, pages // 2)\n",
        "            self.enqueue(order_id, pages - pages // 2)\n",
        "\n",
        "# Contoh penggunaan\n",
        "queue = AntriFotocopy(maks = 5)\n",
        "\n",
        "# Menambahkan pesanan ke antrian\n",
        "queue.fast_track(\"SIT14-01\", 5)\n",
        "queue.enqueue(\"SIT14-02\", 17)\n",
        "queue.enqueue(\"SIT14-03\", 120)\n",
        "queue.enqueue(\"SIT14-04\", 18)\n",
        "queue.fast_track(\"SIT14-05\", 7)\n",
        "queue.fast_track(\"SIT14-06\", 200)\n",
        "\n",
        "# Menampilkan status antrian\n",
        "print(\"Queue setelah enqueue:\", queue.queue)\n",
        "\n",
        "# Proses antrian dan tampilkan pesanan yang dilayani\n",
        "while not queue.is_empty():\n",
        "    order_id, pages = queue.dequeue()\n",
        "    print(f\"\\nPesanan {order_id} dengan {pages} halaman sedang diproses.\")\n",
        "\n",
        "# Menampilkan elemen depan dan belakang\n",
        "print('\\n')\n",
        "print(\"Front Element:\", queue.front())\n",
        "print(\"Rear Element:\", queue.rear())\n",
        "print(\"Queue Size:\", queue.size())\n"
      ],
      "metadata": {
        "colab": {
          "base_uri": "https://localhost:8080/"
        },
        "id": "23spucjNVUCN",
        "outputId": "63c36fe0-f69d-44a7-b695-8acc0ce2a743"
      },
      "execution_count": null,
      "outputs": [
        {
          "output_type": "stream",
          "name": "stdout",
          "text": [
            "Pesanan SIT14-01 dengan 5 halaman langsung diproses\n",
            "Pesanan SIT14-05 dengan 7 halaman langsung diproses\n",
            "Queue setelah enqueue: [('SIT14-02', 17), ('SIT14-03', 120), ('SIT14-04', 18), ('SIT14-06', 200)]\n",
            "\n",
            "Pesanan SIT14-02 dengan 17 halaman sedang diproses.\n",
            "\n",
            "Pesanan SIT14-03 dengan 120 halaman sedang diproses.\n",
            "\n",
            "Pesanan SIT14-04 dengan 18 halaman sedang diproses.\n",
            "\n",
            "Pesanan SIT14-06 dengan 200 halaman sedang diproses.\n",
            "\n",
            "\n",
            "Front Element: None\n",
            "Rear Element: None\n",
            "Queue Size: 0\n"
          ]
        }
      ]
    },
    {
      "cell_type": "code",
      "source": [
        "# Latihan 3\n",
        "\n",
        "class AntriParkiran:\n",
        "    def __init__(self, maks = 7):\n",
        "        self.queue = []\n",
        "        self.maks = maks\n",
        "\n",
        "    def enqueue(self, kendaraan_biasa, kendaraan_listrik = False):\n",
        "        if len(self.queue) < self.maks:\n",
        "            if kendaraan_listrik:\n",
        "                self.queue.insert(0, kendaraan_biasa)\n",
        "                print(f\"Kendaraan {kendaraan_biasa} masuk parkir dengan prioritas.\")\n",
        "            else:\n",
        "                self.queue.append(kendaraan_biasa)\n",
        "                print(f\"Kendaraan {kendaraan_biasa} masuk parkir.\")\n",
        "        else:\n",
        "            print(f\"Parkiran penuh. Kendaraan {kendaraan_biasa} harus menunggu.\")\n",
        "\n",
        "    def dequeue(self):\n",
        "        if not self.is_empty():\n",
        "            kendaraan_biasa = self.queue.pop(0)\n",
        "            print(f\"Kendaraan {kendaraan_biasa} keluar parkir.\")\n",
        "            return kendaraan_biasa\n",
        "        return None\n",
        "\n",
        "    def front(self):\n",
        "        return self.queue[0] if not self.is_empty() else None\n",
        "\n",
        "    def rear(self):\n",
        "        return self.queue[-1] if not self.is_empty() else None\n",
        "\n",
        "    def is_empty(self):\n",
        "        return len(self.queue) == 0\n",
        "\n",
        "    def size(self):\n",
        "        return len(self.queue)\n",
        "\n",
        "# Contoh penggunaan\n",
        "queue = AntriParkiran(maks = 7)\n",
        "\n",
        "# Menambahkan kendaraan ke parkir\n",
        "queue.enqueue(\"DE14-01\")\n",
        "queue.enqueue(\"DE14-02\", kendaraan_listrik = True)\n",
        "queue.enqueue(\"DE14-03\")\n",
        "queue.enqueue(\"DE14-04\", kendaraan_listrik = True)\n",
        "queue.enqueue(\"DE14-05\", kendaraan_listrik = True)\n",
        "queue.enqueue(\"DE14-06\")\n",
        "queue.enqueue(\"DE14-07\")\n",
        "\n",
        "# Menampilkan status parkir\n",
        "print(\"\\nAntrian parkir:\", queue.queue)\n",
        "\n",
        "# Proses kendaraan keluar parkir\n",
        "queue.dequeue()\n",
        "queue.dequeue()\n",
        "\n",
        "# Menampilkan kendaraan pertama dan terakhir\n",
        "print(\"\\nKendaraan pertama:\", queue.front())\n",
        "print(\"Kendaraan terakhir:\", queue.rear())\n",
        "print(\"Jumlah antrian parkir:\", queue.size())\n",
        "\n"
      ],
      "metadata": {
        "colab": {
          "base_uri": "https://localhost:8080/"
        },
        "id": "6LuIc7e5ZmKW",
        "outputId": "443dce59-0306-4fc2-a355-42bf83112afe"
      },
      "execution_count": null,
      "outputs": [
        {
          "output_type": "stream",
          "name": "stdout",
          "text": [
            "Kendaraan DE14-01 masuk parkir.\n",
            "Kendaraan DE14-02 masuk parkir dengan prioritas.\n",
            "Kendaraan DE14-03 masuk parkir.\n",
            "Kendaraan DE14-04 masuk parkir dengan prioritas.\n",
            "Kendaraan DE14-05 masuk parkir dengan prioritas.\n",
            "Kendaraan DE14-06 masuk parkir.\n",
            "Kendaraan DE14-07 masuk parkir.\n",
            "\n",
            "Antrian parkir: ['DE14-05', 'DE14-04', 'DE14-02', 'DE14-01', 'DE14-03', 'DE14-06', 'DE14-07']\n",
            "Kendaraan DE14-05 keluar parkir.\n",
            "Kendaraan DE14-04 keluar parkir.\n",
            "\n",
            "Kendaraan pertama: DE14-02\n",
            "Kendaraan terakhir: DE14-07\n",
            "Jumlah antrian parkir: 5\n"
          ]
        }
      ]
    },
    {
      "cell_type": "code",
      "source": [
        "#Latihan 4\n",
        "\n",
        "class AntriSertifikat:\n",
        "    def __init__(self):\n",
        "        self.queue = []  # Antrian mahasiswa reguler\n",
        "        self.priority_queue = []  # Antrian mahasiswa berprestasi\n",
        "\n",
        "    def enqueue(self, student_id, is_berprestasi=False):\n",
        "        if is_berprestasi:\n",
        "            self.priority_queue.append(student_id)\n",
        "        else:\n",
        "            self.queue.append(student_id)\n",
        "\n",
        "    def dequeue(self):\n",
        "        if self.priority_queue:\n",
        "            return self.priority_queue.pop(0)\n",
        "        elif self.queue:\n",
        "            return self.queue.pop(0)\n",
        "        return None\n",
        "\n",
        "    def front(self):\n",
        "        if self.priority_queue:\n",
        "            return self.priority_queue[0]\n",
        "        elif self.queue:\n",
        "            return self.queue[0]\n",
        "        return None\n",
        "\n",
        "    def rear(self):\n",
        "        if self.queue:\n",
        "            return self.queue[-1]\n",
        "        elif self.priority_queue:\n",
        "            return self.priority_queue[-1]\n",
        "        return None\n",
        "\n",
        "    def is_empty(self):\n",
        "        return len(self.queue) == 0 and len(self.priority_queue) == 0\n",
        "\n",
        "    def size(self):\n",
        "        return len(self.queue) + len(self.priority_queue)\n",
        "\n",
        "    def display_queues(self):\n",
        "        print(\"Antrian Berprestasi:\", end=\" \")\n",
        "        if self.priority_queue:\n",
        "            for i, student in enumerate(self.priority_queue):\n",
        "                if i == len(self.priority_queue) - 1:\n",
        "                    print(student)\n",
        "                else:\n",
        "                    print(student, end=\", \")\n",
        "        else:\n",
        "            print(\"Kosong\")\n",
        "\n",
        "        print(\"Antrian Reguler:\", end=\" \")\n",
        "        if self.queue:\n",
        "            for i, student in enumerate(self.queue):\n",
        "                if i == len(self.queue) - 1:\n",
        "                    print(student)\n",
        "                else:\n",
        "                    print(student, end=\", \")\n",
        "        else:\n",
        "            print(\"Kosong\")\n",
        "\n",
        "\n",
        "# Contoh penggunaan sistem antrian sertifikat\n",
        "queue = AntriSertifikat()\n",
        "\n",
        "# Mahasiswa reguler\n",
        "queue.enqueue(\"TI14\")\n",
        "queue.enqueue(\"TI23\")\n",
        "queue.enqueue(\"TI35\")\n",
        "\n",
        "# Mahasiswa berprestasi\n",
        "queue.enqueue(\"TI07\", is_berprestasi=True)\n",
        "queue.enqueue(\"TI29\", is_berprestasi=True)\n",
        "queue.enqueue(\"TI17\", is_berprestasi=True)\n",
        "\n",
        "# Menampilkan antrian\n",
        "queue.display_queues()\n",
        "\n",
        "# Melayani mahasiswa\n",
        "print(\"\\nSedang Melayani Mahasiswa:\", queue.dequeue())\n",
        "queue.display_queues()\n",
        "\n",
        "print(\"\\nMahasiswa pertama dalam antrian:\", queue.front())\n",
        "print(\"Mahasiswa terakhir dalam antrian:\", queue.rear())\n",
        "print(\"Total mahasiswa dalam antrian:\", queue.size())\n"
      ],
      "metadata": {
        "colab": {
          "base_uri": "https://localhost:8080/"
        },
        "id": "uLAHeVFZT347",
        "outputId": "dcc3552c-7f49-481c-90e5-3dc00410f1da"
      },
      "execution_count": 9,
      "outputs": [
        {
          "output_type": "stream",
          "name": "stdout",
          "text": [
            "Antrian Berprestasi: TI07, TI29, TI17\n",
            "Antrian Reguler: TI14, TI23, TI35\n",
            "\n",
            "Sedang Melayani Mahasiswa: TI07\n",
            "Antrian Berprestasi: TI29, TI17\n",
            "Antrian Reguler: TI14, TI23, TI35\n",
            "\n",
            "Mahasiswa pertama dalam antrian: TI29\n",
            "Mahasiswa terakhir dalam antrian: TI35\n",
            "Total mahasiswa dalam antrian: 5\n"
          ]
        }
      ]
    },
    {
      "cell_type": "code",
      "source": [],
      "metadata": {
        "id": "LYpuz4RsbTwm"
      },
      "execution_count": null,
      "outputs": []
    }
  ]
}