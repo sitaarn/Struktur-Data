{
  "nbformat": 4,
  "nbformat_minor": 0,
  "metadata": {
    "colab": {
      "provenance": [],
      "authorship_tag": "ABX9TyPCuHNKEFeT0KoatcvpfPw2",
      "include_colab_link": true
    },
    "kernelspec": {
      "name": "python3",
      "display_name": "Python 3"
    },
    "language_info": {
      "name": "python"
    }
  },
  "cells": [
    {
      "cell_type": "markdown",
      "metadata": {
        "id": "view-in-github",
        "colab_type": "text"
      },
      "source": [
        "<a href=\"https://colab.research.google.com/github/sitaarn/Struktur-Data/blob/main/Percobaan%20%26%20Latihan10.ipynb\" target=\"_parent\"><img src=\"https://colab.research.google.com/assets/colab-badge.svg\" alt=\"Open In Colab\"/></a>"
      ]
    },
    {
      "cell_type": "code",
      "execution_count": null,
      "metadata": {
        "colab": {
          "base_uri": "https://localhost:8080/"
        },
        "id": "PikRPAqAs8Qf",
        "outputId": "abc65655-0797-458f-e376-6fe66a70916d"
      },
      "outputs": [
        {
          "output_type": "stream",
          "name": "stdout",
          "text": [
            "A -> ['B', 'C']\n",
            "B -> ['A', 'D', 'E']\n",
            "C -> ['A', 'F']\n",
            "D -> ['B']\n",
            "E -> ['B', 'F']\n",
            "F -> ['C', 'E']\n"
          ]
        }
      ],
      "source": [
        "# Membuat graf tak berarah menggunakan adjacency list\n",
        "graph = {\n",
        "    'A': ['B', 'C'],\n",
        "    'B': ['A', 'D', 'E'],\n",
        "    'C': ['A', 'F'],\n",
        "    'D': ['B'],\n",
        "    'E': ['B', 'F'],\n",
        "    'F': ['C', 'E']\n",
        "}\n",
        "\n",
        "# Menampilkan graf\n",
        "def print_graph(graf):\n",
        "    for node in graf:\n",
        "        print(f\"{node} -> {graf[node]}\")\n",
        "\n",
        "print_graph(graph)\n"
      ]
    },
    {
      "cell_type": "code",
      "source": [
        "from collections import deque\n",
        "\n",
        "def bfs(graph, start):\n",
        "    visited = set()\n",
        "    queue = deque([start])\n",
        "\n",
        "    while queue:\n",
        "        vertex = queue.popleft()\n",
        "        if vertex not in visited:\n",
        "            print(vertex, end=\" \")\n",
        "            visited.add(vertex)\n",
        "            queue.extend([neighbor for neighbor in graph[vertex] if neighbor not in visited])\n",
        "\n",
        "# Contoh pemanggilan\n",
        "bfs(graph, 'A')\n"
      ],
      "metadata": {
        "colab": {
          "base_uri": "https://localhost:8080/"
        },
        "id": "NwL6IYscu-Rk",
        "outputId": "7e14da9d-67d8-415e-a58b-1206faedddd3"
      },
      "execution_count": null,
      "outputs": [
        {
          "output_type": "stream",
          "name": "stdout",
          "text": [
            "A B C D E F "
          ]
        }
      ]
    },
    {
      "cell_type": "code",
      "source": [
        "def dfs(graph, start, visited=None):\n",
        "    if visited is None:\n",
        "        visited = set()\n",
        "\n",
        "    if start not in visited:\n",
        "        print(start, end=\" \")\n",
        "        visited.add(start)\n",
        "        for neighbor in graph[start]:\n",
        "            dfs(graph, neighbor, visited)\n",
        "\n",
        "# Contoh pemanggilan\n",
        "dfs(graph, 'A')\n"
      ],
      "metadata": {
        "colab": {
          "base_uri": "https://localhost:8080/"
        },
        "id": "eaoJzgFHvTDv",
        "outputId": "73f87e87-bc5a-4b73-edd7-465f3738fa1f"
      },
      "execution_count": null,
      "outputs": [
        {
          "output_type": "stream",
          "name": "stdout",
          "text": [
            "A B D E F C "
          ]
        }
      ]
    },
    {
      "cell_type": "code",
      "source": [
        "# Lengkapi fungsi untuk menghitung jumlah tetangga dari tiap simpul dalam graf\n",
        "def count_neighbors(graph):\n",
        "  result = {}\n",
        "  for node in graph:\n",
        "    # TO DO: Hitung jumlah tetangga\n",
        "    result[node] = len(graph[node])\n",
        "  return result\n",
        "\n",
        "graph = {\n",
        "    'A': ['B', 'C'],\n",
        "    'B': ['A', 'D', 'E'],\n",
        "    'C': ['A', 'F'],\n",
        "    'D': ['B'],\n",
        "    'E': ['B', 'F'],\n",
        "    'F': ['C', 'E']\n",
        "}\n",
        "\n",
        "neighbors_count = count_neighbors(graph)\n",
        "for node, count in neighbors_count.items():\n",
        "    print(f\"{node}: {count}\")\n"
      ],
      "metadata": {
        "id": "7-QubTmyvdRO",
        "colab": {
          "base_uri": "https://localhost:8080/"
        },
        "outputId": "084fe049-c90f-4ab7-ea9d-bfd0fcf9ad81"
      },
      "execution_count": null,
      "outputs": [
        {
          "output_type": "stream",
          "name": "stdout",
          "text": [
            "A: 2\n",
            "B: 3\n",
            "C: 2\n",
            "D: 1\n",
            "E: 2\n",
            "F: 2\n"
          ]
        }
      ]
    },
    {
      "cell_type": "code",
      "source": [],
      "metadata": {
        "id": "iQFqLa6zwjPd"
      },
      "execution_count": null,
      "outputs": []
    }
  ]
}