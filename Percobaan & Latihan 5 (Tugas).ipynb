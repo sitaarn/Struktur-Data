{
  "nbformat": 4,
  "nbformat_minor": 0,
  "metadata": {
    "colab": {
      "provenance": [],
      "authorship_tag": "ABX9TyOCSGkUz8DASHqw22xw1Bvd",
      "include_colab_link": true
    },
    "kernelspec": {
      "name": "python3",
      "display_name": "Python 3"
    },
    "language_info": {
      "name": "python"
    }
  },
  "cells": [
    {
      "cell_type": "markdown",
      "metadata": {
        "id": "view-in-github",
        "colab_type": "text"
      },
      "source": [
        "<a href=\"https://colab.research.google.com/github/sitaarn/Struktur-Data/blob/main/Percobaan%20%26%20Latihan%205%20(Tugas).ipynb\" target=\"_parent\"><img src=\"https://colab.research.google.com/assets/colab-badge.svg\" alt=\"Open In Colab\"/></a>"
      ]
    },
    {
      "cell_type": "code",
      "execution_count": null,
      "metadata": {
        "colab": {
          "base_uri": "https://localhost:8080/"
        },
        "id": "gBkvM2CpQiiO",
        "outputId": "2eb5cdfe-4544-4387-df9c-76170a603f31"
      },
      "outputs": [
        {
          "output_type": "stream",
          "name": "stdout",
          "text": [
            "Masukkan 2 digit terakhir NPM Anda: 14\n",
            "Elemen ditemukan pada indeks 3\n"
          ]
        }
      ],
      "source": [
        "def linear_search(arr, target):\n",
        "  for i in range(len (arr)):\n",
        "    if arr[i] == target:\n",
        "      return i\n",
        "  return -1\n",
        "\n",
        "# Gantilah dengan angka acak dan NPM Anda\n",
        "arr = [8, 10, 71, 14, 96, 29, 84, 63, 90, 51]\n",
        "target = int(input(\"Masukkan 2 digit terakhir NPM Anda: \"))\n",
        "\n",
        "result = linear_search(arr, target)\n",
        "\n",
        "if result != -1:\n",
        "  print(f\"Elemen ditemukan pada indeks {result}\")\n",
        "else:\n",
        "  print(\"Elemen tidak ditemukan\")\n"
      ]
    },
    {
      "cell_type": "code",
      "source": [
        "def binary_search(arr, target):\n",
        "    low = 0\n",
        "    high = len(arr) - 1\n",
        "\n",
        "    while low <= high:\n",
        "        mid = (low + high) // 2\n",
        "        if arr[mid] == target:\n",
        "            return mid\n",
        "        elif arr[mid] < target:\n",
        "            low = mid + 1\n",
        "        else:\n",
        "            high = mid - 1\n",
        "    return -1\n",
        "\n",
        "# Gantilah dengan angka terurut dan tanggal lahir Anda (DDMM)\n",
        "arr = [1100, 1202, 1405, 1507, 1708, 3009, 4311, 4412]\n",
        "target = int(input(\"Masukkan tanggal lahir Anda (DDMM): \"))\n",
        "\n",
        "result = binary_search(arr, target)\n",
        "\n",
        "if result != -1:\n",
        "    print(f\"Elemen ditemukan pada indeks {result}\")\n",
        "else:\n",
        "    print(\"Elemen tidak ditemukan\")\n"
      ],
      "metadata": {
        "colab": {
          "base_uri": "https://localhost:8080/"
        },
        "id": "M5arKcG6WAsY",
        "outputId": "d32fdf42-5e00-4c6f-f455-c92a124f4b45"
      },
      "execution_count": null,
      "outputs": [
        {
          "output_type": "stream",
          "name": "stdout",
          "text": [
            "Masukkan tanggal lahir Anda (DDMM): 1708\n",
            "Elemen ditemukan pada indeks 4\n"
          ]
        }
      ]
    },
    {
      "cell_type": "code",
      "source": [
        "import math\n",
        "\n",
        "def jump_search(arr, target):\n",
        "    n = len(arr)\n",
        "    step = int(math.sqrt(n))\n",
        "    prev = 0\n",
        "\n",
        "    while arr[min(step, n) - 1] < target:\n",
        "        prev = step\n",
        "        step += int(math.sqrt(n))\n",
        "        if prev >= n:\n",
        "            return -1\n",
        "\n",
        "    for i in range(prev, min(step, n)):\n",
        "        if arr[i] == target:\n",
        "            return i\n",
        "\n",
        "    return -1\n",
        "\n",
        "# Gantilah dengan daftar nama teman-teman Anda dalam urutan alfabet\n",
        "arr = [\"Apfia\", \"Fadlika\", \"Hammam\", \"Nofiya\", \"Rahma\", \"Sita\", \"Yasa\", \"Zahra\"]\n",
        "target = input(\"Masukkan inisial nama Anda: \")\n",
        "\n",
        "result = jump_search(arr, target)\n",
        "\n",
        "if result != -1:\n",
        "    print(f\"Elemen ditemukan pada indeks {result}\")\n",
        "else:\n",
        "    print(\"Elemen tidak ditemukan\")\n"
      ],
      "metadata": {
        "colab": {
          "base_uri": "https://localhost:8080/"
        },
        "id": "mZ7eFzUBWrq3",
        "outputId": "9d146998-bca9-4338-ad96-aa7e865d57de"
      },
      "execution_count": null,
      "outputs": [
        {
          "output_type": "stream",
          "name": "stdout",
          "text": [
            "Masukkan inisial nama Anda: Sita\n",
            "Elemen ditemukan pada indeks 5\n"
          ]
        }
      ]
    },
    {
      "cell_type": "code",
      "source": [
        "#Tugas\n",
        "\n",
        "import random\n",
        "import math\n",
        "\n",
        "def generate_sorted_list():\n",
        "    return sorted(random.sample(range(1, 1001), 100))\n",
        "\n",
        "def linear_search(arr, target):\n",
        "    comparisons = 0\n",
        "    for i, num in enumerate(arr):\n",
        "        comparisons += 1\n",
        "        if num == target:\n",
        "            return i, comparisons\n",
        "    return -1, comparisons\n",
        "\n",
        "def binary_search(arr, target):\n",
        "    left, right = 0, len(arr) - 1\n",
        "    comparisons = 0\n",
        "    while left <= right:\n",
        "        mid = (left + right) // 2\n",
        "        comparisons += 1\n",
        "        if arr[mid] == target:\n",
        "            return mid, comparisons\n",
        "        elif arr[mid] < target:\n",
        "            left = mid + 1\n",
        "        else:\n",
        "            right = mid - 1\n",
        "    return -1, comparisons\n",
        "\n",
        "def jump_search(arr, target):\n",
        "    length = len(arr)\n",
        "    step = int(math.sqrt(length))\n",
        "    prev, comparisons = 0, 0\n",
        "\n",
        "    while prev < length and arr[min(step, length) - 1] < target:\n",
        "        comparisons += 1\n",
        "        prev = step\n",
        "        step += int(math.sqrt(length))\n",
        "        if prev >= length:\n",
        "            return -1, comparisons\n",
        "\n",
        "    for i in range(prev, min(step, length)):\n",
        "        comparisons += 1\n",
        "        if arr[i] == target:\n",
        "            return i, comparisons\n",
        "    return -1, comparisons\n",
        "\n",
        "# Generate sorted list\n",
        "arr = generate_sorted_list()\n",
        "target = arr[len(arr) // 2]\n",
        "\n",
        "# Search\n",
        "linear_result = linear_search(arr, target)\n",
        "binary_result = binary_search(arr, target)\n",
        "jump_result = jump_search(arr, target)\n",
        "\n",
        "# Print results\n",
        "print(\"Algoritma Pencarian | Jumlah Perbandingan\")\n",
        "print(f\"Linear Search    | {linear_result[1]}\")\n",
        "print(f\"Binary Search    | {binary_result[1]}\")\n",
        "print(f\"Jump Search      | {jump_result[1]}\")\n"
      ],
      "metadata": {
        "colab": {
          "base_uri": "https://localhost:8080/"
        },
        "id": "_T4HOYm0F3zC",
        "outputId": "a144abdc-13be-4001-f930-d5385544219d"
      },
      "execution_count": 1,
      "outputs": [
        {
          "output_type": "stream",
          "name": "stdout",
          "text": [
            "Algoritma Pencarian | Jumlah Perbandingan\n",
            "Linear Search    | 51\n",
            "Binary Search    | 6\n",
            "Jump Search      | 6\n"
          ]
        }
      ]
    },
    {
      "cell_type": "code",
      "source": [],
      "metadata": {
        "id": "iIw0yddMHdMt"
      },
      "execution_count": null,
      "outputs": []
    }
  ]
}