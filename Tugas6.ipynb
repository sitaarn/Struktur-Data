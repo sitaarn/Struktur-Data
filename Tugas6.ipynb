{
  "nbformat": 4,
  "nbformat_minor": 0,
  "metadata": {
    "colab": {
      "provenance": [],
      "authorship_tag": "ABX9TyMx6fl9p4Pj2An2R/eMNjKJ",
      "include_colab_link": true
    },
    "kernelspec": {
      "name": "python3",
      "display_name": "Python 3"
    },
    "language_info": {
      "name": "python"
    }
  },
  "cells": [
    {
      "cell_type": "markdown",
      "metadata": {
        "id": "view-in-github",
        "colab_type": "text"
      },
      "source": [
        "<a href=\"https://colab.research.google.com/github/sitaarn/Struktur-Data/blob/main/Tugas6.ipynb\" target=\"_parent\"><img src=\"https://colab.research.google.com/assets/colab-badge.svg\" alt=\"Open In Colab\"/></a>"
      ]
    },
    {
      "cell_type": "code",
      "source": [
        "# Tugas\n",
        "\n",
        "class Pelanggan:\n",
        "    def __init__(self, nama, umur, total_belanja):\n",
        "        self.nama = nama\n",
        "        self.umur = umur\n",
        "        self.total_belanja = total_belanja\n",
        "\n",
        "    def __repr__(self):\n",
        "        return f\"Pelanggan(nama='{self.nama}', umur={self.umur}, total_belanja={self.total_belanja})\"\n",
        "\n",
        "def quick_sort(arr, key):\n",
        "    if len(arr) <= 1:\n",
        "        return arr\n",
        "\n",
        "    pivot = arr[len(arr) // 2]\n",
        "\n",
        "    left = [x for x in arr if getattr(x, key) < getattr(pivot, key)]\n",
        "    middle = [x for x in arr if getattr(x, key) == getattr(pivot, key)]\n",
        "    right = [x for x in arr if getattr(x, key) > getattr(pivot, key)]\n",
        "\n",
        "    return quick_sort(left, key) + middle + quick_sort(right, key)\n",
        "\n",
        "def print_data(data, sort_by):\n",
        "    print(f\"| {'Nama':<17} | {'Umur':<5} | {'Total Belanja':<15}|\")\n",
        "    print(\"-\" * 45)\n",
        "\n",
        "    for pelanggan in data:\n",
        "        print(f\"| {pelanggan.nama:<17} | {pelanggan.umur:<5} | {pelanggan.total_belanja:<15}|\")\n",
        "\n",
        "# Contoh penggunaan\n",
        "data = [\n",
        "    Pelanggan(\"Andika\", 25, 160000),\n",
        "    Pelanggan(\"Bintang\", 30, 50000),\n",
        "    Pelanggan(\"Chika\", 22, 150000),\n",
        "    Pelanggan(\"Dinni\", 28, 200000),\n",
        "    Pelanggan(\"Fariz\", 35, 120000),\n",
        "    Pelanggan(\"Galih\", 21, 180000),\n",
        "    Pelanggan(\"Hana\", 19, 240000),\n",
        "    Pelanggan(\"Irfan\", 32, 290000),\n",
        "    Pelanggan(\"Jessie\", 29, 90000),\n",
        "    Pelanggan(\"Kelvin\", 37, 360000)\n",
        "]\n",
        "\n",
        "# Mengurutkan berdasarkan nama\n",
        "sorted_by_nama = quick_sort(data.copy(), \"nama\")\n",
        "print(\"Data setelah sorting berdasarkan Nama:\")\n",
        "print_data(sorted_by_nama, \"nama\")\n",
        "\n",
        "# Mengurutkan berdasarkan umur\n",
        "sorted_by_umur = quick_sort(data.copy(), \"umur\")\n",
        "print(\"\\nData setelah sorting berdasarkan Umur:\")\n",
        "print_data(sorted_by_umur, \"umur\")\n",
        "\n",
        "# Mengurutkan berdasarkan total belanja\n",
        "sorted_by_belanja = quick_sort(data.copy(), \"total_belanja\")\n",
        "print(\"\\nData setelah sorting berdasarkan Total Belanja:\")\n",
        "print_data(sorted_by_belanja, \"total_belanja\")\n"
      ],
      "metadata": {
        "colab": {
          "base_uri": "https://localhost:8080/"
        },
        "id": "yHbx0chXbtzM",
        "outputId": "2d5f5f3b-c519-49f1-f036-307675d922b2"
      },
      "execution_count": null,
      "outputs": [
        {
          "output_type": "stream",
          "name": "stdout",
          "text": [
            "Data setelah sorting berdasarkan Nama:\n",
            "| Nama              | Umur  | Total Belanja  |\n",
            "---------------------------------------------\n",
            "| Andika            | 25    | 160000         |\n",
            "| Bintang           | 30    | 50000          |\n",
            "| Chika             | 22    | 150000         |\n",
            "| Dinni             | 28    | 200000         |\n",
            "| Fariz             | 35    | 120000         |\n",
            "| Galih             | 21    | 180000         |\n",
            "| Hana              | 19    | 240000         |\n",
            "| Irfan             | 32    | 290000         |\n",
            "| Jessie            | 29    | 90000          |\n",
            "| Kelvin            | 37    | 360000         |\n",
            "\n",
            "Data setelah sorting berdasarkan Umur:\n",
            "| Nama              | Umur  | Total Belanja  |\n",
            "---------------------------------------------\n",
            "| Hana              | 19    | 240000         |\n",
            "| Galih             | 21    | 180000         |\n",
            "| Chika             | 22    | 150000         |\n",
            "| Andika            | 25    | 160000         |\n",
            "| Dinni             | 28    | 200000         |\n",
            "| Jessie            | 29    | 90000          |\n",
            "| Bintang           | 30    | 50000          |\n",
            "| Irfan             | 32    | 290000         |\n",
            "| Fariz             | 35    | 120000         |\n",
            "| Kelvin            | 37    | 360000         |\n",
            "\n",
            "Data setelah sorting berdasarkan Total Belanja:\n",
            "| Nama              | Umur  | Total Belanja  |\n",
            "---------------------------------------------\n",
            "| Bintang           | 30    | 50000          |\n",
            "| Jessie            | 29    | 90000          |\n",
            "| Fariz             | 35    | 120000         |\n",
            "| Chika             | 22    | 150000         |\n",
            "| Andika            | 25    | 160000         |\n",
            "| Galih             | 21    | 180000         |\n",
            "| Dinni             | 28    | 200000         |\n",
            "| Hana              | 19    | 240000         |\n",
            "| Irfan             | 32    | 290000         |\n",
            "| Kelvin            | 37    | 360000         |\n"
          ]
        }
      ]
    }
  ]
}